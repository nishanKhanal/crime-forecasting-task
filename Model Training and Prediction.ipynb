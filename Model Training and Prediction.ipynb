{
 "cells": [
  {
   "cell_type": "code",
   "execution_count": 1,
   "metadata": {},
   "outputs": [
    {
     "name": "stderr",
     "output_type": "stream",
     "text": [
      "2024-12-06 10:02:45.924027: I tensorflow/core/platform/cpu_feature_guard.cc:210] This TensorFlow binary is optimized to use available CPU instructions in performance-critical operations.\n",
      "To enable the following instructions: AVX2 FMA, in other operations, rebuild TensorFlow with the appropriate compiler flags.\n"
     ]
    }
   ],
   "source": [
    "import pandas as pd\n",
    "import geopandas as gpd\n",
    "from datetime import timedelta\n",
    "import datetime\n",
    "import random\n",
    "import tensorflow as tf\n",
    "import math\n",
    "import numpy as np\n",
    "import os"
   ]
  },
  {
   "cell_type": "code",
   "execution_count": 4,
   "metadata": {},
   "outputs": [],
   "source": [
    "def make_result_reproducible(seed_value):\n",
    "\n",
    "    # 1. Set the `PYTHONHASHSEED` environment variable at a fixed value\n",
    "    # import os\n",
    "    os.environ['PYTHONHASHSEED']=str(seed_value)\n",
    "    os.environ['CUDA_VISIBLE_DEVICES'] = ''\n",
    "\n",
    "    # 2. Set the `python` built-in pseudo-random generator at a fixed value\n",
    "    # import random\n",
    "    random.seed(seed_value)\n",
    "\n",
    "    # For numpy\n",
    "    np.random.seed(seed_value)\n",
    "\n",
    "    # 4. Set the `tensorflow` pseudo-random generator at a fixed value\n",
    "    # import tensorflow as tf\n",
    "    tf.random.set_seed(seed_value)\n",
    "    tf.keras.utils.set_random_seed(seed_value)\n",
    "\n",
    "\n",
    "def assign_time_bin(df, aggregation_period):\n",
    "    start_date = df['occ_date'].min().floor('D')  # Dataset's start date\n",
    "    end_date = df['occ_date'].max().ceil('D') + timedelta(aggregation_period) # Dataset's end date\n",
    "    print(end_date)\n",
    "    time_bins = pd.date_range(start=start_date, end=end_date, freq=f'{aggregation_period}D')\n",
    "\n",
    "    # Bin the timestamps\n",
    "    df['time_bin'] = pd.cut(\n",
    "        df['occ_date'],\n",
    "        bins=time_bins,\n",
    "        labels=time_bins[:-1],  # Label bins by their start date\n",
    "        right=False\n",
    "    )\n",
    "    df['time_bin'] = df['time_bin'].astype('datetime64[ns]')\n",
    "\n",
    "    print(df['time_bin'].dtype)\n",
    "    return df\n",
    "\n",
    "def prepare_data(crime_df, grid_df, aggregation_period):\n",
    "    relevant_columns = ['occ_date', 'x_coordinate', 'y_coordinate']\n",
    "    crime_df = crime_df[relevant_columns]\n",
    "\n",
    "    crime_df = gpd.GeoDataFrame(crime_df, geometry=gpd.points_from_xy(crime_df.x_coordinate, crime_df.y_coordinate))\n",
    "    crime_df.set_crs('EPSG:2913', inplace=True)\n",
    "\n",
    "    grid_crime_df = gpd.sjoin(crime_df, grid_df, how='left', predicate='within')\n",
    "    grid_crime_df.dropna(inplace=True) # drop those crimes that don't fall within any grids inside the city boundry\n",
    "\n",
    "    grid_crime_df.drop('index_right', axis=1, inplace=True)\n",
    "\n",
    "    grid_crime_df['occ_date'] = pd.to_datetime(grid_crime_df['occ_date'])  # Ensure time is datetime\n",
    "    grid_crime_df['hotspot'] = grid_crime_df['hotspot'].astype('int64')  \n",
    "    grid_crime_df['unique_id'] = grid_crime_df['unique_id'].astype('int64') \n",
    "\n",
    "    # Aggregate crime counts over 14 days period\n",
    "    # grid_crime_df['time_bin'] = grid_crime_df['occ_date'].dt.floor(f'{aggregation_period}D') # doesn't allow for custom bins\n",
    "    grid_crime_df = assign_time_bin(grid_crime_df, aggregation_period)\n",
    "\n",
    "    grid_crime_df.drop(columns=['x_index','y_index'],axis=1, inplace =True)\n",
    "\n",
    "    crime_counts_df = grid_crime_df.groupby(['unique_id', 'time_bin']).size().reset_index(name='crime_count')\n",
    "\n",
    "    return crime_counts_df\n",
    "\n",
    "def fill_in_hotspots(crime_counts_df,  hotspot_cells, threshold):\n",
    "    \n",
    "    # hotspot_cells = crime_counts_df.groupby(['unique_id']).agg({'crime_count': lambda x: any(x >= 5)})\n",
    "\n",
    "    # hotspot_cells = hotspot_cells[hotspot_cells['crime_count'] == True].index\n",
    "\n",
    "    potential_hotspots_crime_counts_df = crime_counts_df[crime_counts_df['unique_id'].isin(hotspot_cells)]\n",
    "    potential_hotspots_crime_counts_df.loc[:,'hotspot'] = 0\n",
    "    potential_hotspots_crime_counts_df.loc[ potential_hotspots_crime_counts_df['crime_count'] >= threshold , 'hotspot'] = 1\n",
    "\n",
    "    return potential_hotspots_crime_counts_df\n",
    "\n",
    "def create_sequences(df, seq_length):\n",
    "    sequences = []\n",
    "    for cell_id in df['unique_id'].unique():\n",
    "        cell_data = df[df['unique_id'] == cell_id].sort_values('time_bin')\n",
    "        for i in range(len(cell_data) - seq_length ):\n",
    "            sequence = cell_data.iloc[i: i + seq_length + 1]\n",
    "            sequences.append(sequence)\n",
    "    return sequences\n",
    "\n",
    "\n"
   ]
  },
  {
   "cell_type": "code",
   "execution_count": 5,
   "metadata": {},
   "outputs": [
    {
     "name": "stdout",
     "output_type": "stream",
     "text": [
      "2017-03-14 00:00:00\n",
      "datetime64[ns]\n",
      "2017-06-14 00:00:00\n",
      "datetime64[ns]\n",
      "5.0\n"
     ]
    },
    {
     "name": "stderr",
     "output_type": "stream",
     "text": [
      "/tmp/ipykernel_11103/679699447.py:72: SettingWithCopyWarning: \n",
      "A value is trying to be set on a copy of a slice from a DataFrame.\n",
      "Try using .loc[row_indexer,col_indexer] = value instead\n",
      "\n",
      "See the caveats in the documentation: https://pandas.pydata.org/pandas-docs/stable/user_guide/indexing.html#returning-a-view-versus-a-copy\n",
      "  potential_hotspots_crime_counts_df.loc[:,'hotspot'] = 0\n",
      "/tmp/ipykernel_11103/679699447.py:72: SettingWithCopyWarning: \n",
      "A value is trying to be set on a copy of a slice from a DataFrame.\n",
      "Try using .loc[row_indexer,col_indexer] = value instead\n",
      "\n",
      "See the caveats in the documentation: https://pandas.pydata.org/pandas-docs/stable/user_guide/indexing.html#returning-a-view-versus-a-copy\n",
      "  potential_hotspots_crime_counts_df.loc[:,'hotspot'] = 0\n"
     ]
    }
   ],
   "source": [
    "\n",
    "current_dir = os.getcwd()\n",
    "train_base_dir = os.path.join(current_dir, \"Data\", \"train\")\n",
    "test_base_dir = os.path.join(current_dir, \"Data\", \"test\")\n",
    "cell_size = 600\n",
    "aggregation_period = 14 # In days\n",
    "seed_value = 1\n",
    "# make_result_reproducible(seed_value)\n",
    "\n",
    "train_crime_df = pd.read_csv(os.path.join(train_base_dir,'combined_train_data.csv'))\n",
    "test_crime_df = pd.read_csv(os.path.join(test_base_dir,'test_data.csv'))\n",
    "\n",
    "train_crime_df['occ_date'] = pd.to_datetime(train_crime_df['occ_date'])\n",
    "# train_crime_df = train_crime_df[train_crime_df.occ_date.dt.date >= datetime.date(2012,3,7)] # for perfect alignment of days till feb 28\n",
    "grid_df = gpd.read_file(os.path.join(current_dir, 'Data', 'grids', str(cell_size),  'crime-forecast-grid.shp'))\n",
    "\n",
    "train_crime_counts_df = prepare_data(train_crime_df, grid_df, aggregation_period)\n",
    "test_crime_counts_df = prepare_data(test_crime_df, grid_df, aggregation_period)\n",
    "\n",
    "# Using top 2% of the crime-counts as threshold for identifying hotspot\n",
    "threshold = train_crime_counts_df.crime_count.quantile(0.98)\n",
    "print(threshold)\n",
    "\n",
    "hotspot_cells = train_crime_counts_df.groupby(['unique_id']).agg({'crime_count': lambda x: any(x >= threshold)})\n",
    "\n",
    "hotspot_cells = hotspot_cells[hotspot_cells['crime_count'] == True].index\n",
    "\n",
    "\n",
    "train_hotspots_crime_counts_df = fill_in_hotspots(train_crime_counts_df, hotspot_cells, threshold)\n",
    "test_hotspots_crime_counts_df = fill_in_hotspots(test_crime_counts_df, hotspot_cells, threshold)\n",
    "\n",
    "\n",
    "sequence_length = 26 # looking over whole year data to capture seasonal trend\n"
   ]
  },
  {
   "cell_type": "code",
   "execution_count": 6,
   "metadata": {},
   "outputs": [],
   "source": [
    "# run only once\n",
    "last_time_bin = train_hotspots_crime_counts_df.time_bin.max()\n",
    "start_time_bin_test_data_dependends_upon = last_time_bin - timedelta(aggregation_period*(sequence_length-1))\n",
    "historical_data_for_test_df = train_hotspots_crime_counts_df[train_hotspots_crime_counts_df.time_bin >= start_time_bin_test_data_dependends_upon ]\n",
    "test_hotspots_crime_counts_df = pd.concat([historical_data_for_test_df, test_hotspots_crime_counts_df])\n",
    "\n"
   ]
  },
  {
   "cell_type": "code",
   "execution_count": 7,
   "metadata": {},
   "outputs": [],
   "source": [
    "train_time_bins = pd.date_range(train_crime_counts_df.time_bin.min(), train_crime_counts_df.time_bin.max(), freq='14d')\n",
    "test_time_bins_history = pd.date_range(start_time_bin_test_data_dependends_upon, train_crime_counts_df.time_bin.max(), freq='14d')\n",
    "test_time_bins_current = pd.date_range(test_crime_counts_df.time_bin.min(), test_crime_counts_df.time_bin.max(), freq='14d')\n",
    "test_time_bins = test_time_bins_history.append(test_time_bins_current)"
   ]
  },
  {
   "cell_type": "code",
   "execution_count": 8,
   "metadata": {},
   "outputs": [],
   "source": [
    "# Create every possible hotspot_cell-time_bin combination\n",
    "grid_time_bin_train_df = pd.DataFrame([(grid, time_bin) for grid in hotspot_cells for time_bin in train_time_bins],columns=['unique_id', 'time_bin'])\n",
    "grid_time_bin_test_df = pd.DataFrame([(grid, time_bin) for grid in hotspot_cells for time_bin in test_time_bins.sort_values()],columns=['unique_id', 'time_bin'])\n"
   ]
  },
  {
   "cell_type": "code",
   "execution_count": 9,
   "metadata": {},
   "outputs": [],
   "source": [
    "# run only once\n",
    "train_hotspots_crime_counts_df = grid_time_bin_train_df.merge(train_hotspots_crime_counts_df, on=['unique_id', 'time_bin'], how='left').fillna(0)\n",
    "test_hotspots_crime_counts_df = grid_time_bin_test_df.merge(test_hotspots_crime_counts_df, on=['unique_id', 'time_bin'], how='left').fillna(0)"
   ]
  },
  {
   "cell_type": "code",
   "execution_count": 10,
   "metadata": {},
   "outputs": [],
   "source": [
    "train_hotspots_crime_counts_df['hotspot'] = train_hotspots_crime_counts_df['hotspot'].astype(int)\n",
    "test_hotspots_crime_counts_df['hotspot'] = test_hotspots_crime_counts_df['hotspot'].astype(int)"
   ]
  },
  {
   "cell_type": "code",
   "execution_count": 11,
   "metadata": {},
   "outputs": [],
   "source": [
    "\n",
    "train_hotspots_crime_counts_df = train_hotspots_crime_counts_df.sort_values(['unique_id', 'time_bin'])\n",
    "test_hotspots_crime_counts_df = test_hotspots_crime_counts_df.sort_values(['unique_id', 'time_bin'])"
   ]
  },
  {
   "cell_type": "code",
   "execution_count": 12,
   "metadata": {},
   "outputs": [],
   "source": [
    "training_sequences = create_sequences(train_hotspots_crime_counts_df, seq_length=sequence_length)\n"
   ]
  },
  {
   "cell_type": "code",
   "execution_count": 13,
   "metadata": {},
   "outputs": [],
   "source": [
    "# training_sequences[0]"
   ]
  },
  {
   "cell_type": "code",
   "execution_count": 14,
   "metadata": {},
   "outputs": [],
   "source": [
    "testing_sequences = create_sequences(test_hotspots_crime_counts_df, seq_length=sequence_length)"
   ]
  },
  {
   "cell_type": "code",
   "execution_count": 15,
   "metadata": {},
   "outputs": [],
   "source": [
    "# testing_sequences[0]"
   ]
  },
  {
   "cell_type": "code",
   "execution_count": 16,
   "metadata": {},
   "outputs": [
    {
     "name": "stdout",
     "output_type": "stream",
     "text": [
      "2248\n"
     ]
    }
   ],
   "source": [
    "from sklearn.model_selection import train_test_split\n",
    "from sklearn.utils import resample\n",
    "\n",
    "positive_data = []\n",
    "negative_data = []\n",
    "for sequence in training_sequences:\n",
    "    if sequence['hotspot'].iloc[-1] == 1:\n",
    "        positive_data.append(sequence)\n",
    "    else:\n",
    "        negative_data.append(sequence)\n",
    "\n",
    "print(len(positive_data))\n",
    "negative_sample = resample(negative_data, replace=False,  n_samples=len(positive_data), random_state=seed_value) \n",
    "\n",
    "balanced_data = positive_data + negative_sample\n",
    "\n",
    "\n",
    "\n",
    "train_data, val_data = train_test_split(balanced_data, test_size=0.1, random_state=seed_value)\n",
    "\n",
    "test_data = testing_sequences\n",
    "# # Split the remaining set into validation and test sets\n",
    "# val_data, test_data = train_test_split(val_test_data, test_size=0.5, random_state=1)"
   ]
  },
  {
   "cell_type": "code",
   "execution_count": 17,
   "metadata": {},
   "outputs": [
    {
     "data": {
      "text/plain": [
       "((4046, 26, 1), (2457, 26, 1), (4046,), (2457,))"
      ]
     },
     "execution_count": 17,
     "metadata": {},
     "output_type": "execute_result"
    }
   ],
   "source": [
    "def prepare_trainable_data(samples):\n",
    "    X = []\n",
    "    y = []\n",
    "    for seq in samples:\n",
    "        X_seq = seq[['crime_count']].values  # Select features for X\n",
    "        X.append(X_seq[:-1])  # Exclude the last time step from X\n",
    "        y.append(seq['hotspot'].iloc[-1])  # Use the last time step's 'hotspot' value as y\n",
    "    # return X, y\n",
    "    return np.array(X), np.array(y)\n",
    "\n",
    "# Prepare training data\n",
    "X_train, y_train = prepare_trainable_data(train_data)\n",
    "\n",
    "# Prepare validation data\n",
    "X_val, y_val = prepare_trainable_data(val_data)\n",
    "\n",
    "# Prepare test data\n",
    "X_test, y_test = prepare_trainable_data(test_data)\n",
    "\n",
    "X_train.shape, X_test.shape, y_train.shape, y_test.shape"
   ]
  },
  {
   "cell_type": "code",
   "execution_count": null,
   "metadata": {},
   "outputs": [],
   "source": []
  },
  {
   "cell_type": "code",
   "execution_count": 32,
   "metadata": {},
   "outputs": [],
   "source": [
    "make_result_reproducible(seed_value)\n",
    "\n",
    "\n",
    "from tensorflow.keras.models import Sequential\n",
    "from tensorflow.keras.layers import LSTM, Dense, Dropout\n",
    "from tensorflow.keras.optimizers import Adam\n",
    "\n",
    "\n",
    "# Define the LSTM model\n",
    "model = Sequential()\n",
    "model.add(LSTM(units=20, return_sequences=False, input_shape=(X_train.shape[1], X_train.shape[2])))\n",
    "model.add(Dropout(0.2))\n",
    "model.add(Dense(1, activation='sigmoid'))\n",
    "\n",
    "optimizer = Adam(learning_rate= 0.0001)\n",
    "model.compile(loss='binary_crossentropy', optimizer=optimizer, metrics=['accuracy']) \n"
   ]
  },
  {
   "cell_type": "code",
   "execution_count": null,
   "metadata": {},
   "outputs": [],
   "source": []
  },
  {
   "cell_type": "code",
   "execution_count": 33,
   "metadata": {},
   "outputs": [
    {
     "name": "stdout",
     "output_type": "stream",
     "text": [
      "Epoch 1/40\n",
      "\u001b[1m64/64\u001b[0m \u001b[32m━━━━━━━━━━━━━━━━━━━━\u001b[0m\u001b[37m\u001b[0m \u001b[1m3s\u001b[0m 15ms/step - accuracy: 0.4844 - loss: 0.7828 - val_accuracy: 0.5622 - val_loss: 0.7278\n",
      "Epoch 2/40\n",
      "\u001b[1m64/64\u001b[0m \u001b[32m━━━━━━━━━━━━━━━━━━━━\u001b[0m\u001b[37m\u001b[0m \u001b[1m1s\u001b[0m 11ms/step - accuracy: 0.5002 - loss: 0.7456 - val_accuracy: 0.5622 - val_loss: 0.7038\n",
      "Epoch 3/40\n",
      "\u001b[1m64/64\u001b[0m \u001b[32m━━━━━━━━━━━━━━━━━━━━\u001b[0m\u001b[37m\u001b[0m \u001b[1m1s\u001b[0m 10ms/step - accuracy: 0.5389 - loss: 0.7156 - val_accuracy: 0.5622 - val_loss: 0.6805\n",
      "Epoch 4/40\n",
      "\u001b[1m64/64\u001b[0m \u001b[32m━━━━━━━━━━━━━━━━━━━━\u001b[0m\u001b[37m\u001b[0m \u001b[1m1s\u001b[0m 10ms/step - accuracy: 0.6071 - loss: 0.6824 - val_accuracy: 0.7800 - val_loss: 0.6573\n",
      "Epoch 5/40\n",
      "\u001b[1m64/64\u001b[0m \u001b[32m━━━━━━━━━━━━━━━━━━━━\u001b[0m\u001b[37m\u001b[0m \u001b[1m1s\u001b[0m 11ms/step - accuracy: 0.7089 - loss: 0.6537 - val_accuracy: 0.8067 - val_loss: 0.6349\n",
      "Epoch 6/40\n",
      "\u001b[1m64/64\u001b[0m \u001b[32m━━━━━━━━━━━━━━━━━━━━\u001b[0m\u001b[37m\u001b[0m \u001b[1m1s\u001b[0m 10ms/step - accuracy: 0.7673 - loss: 0.6268 - val_accuracy: 0.8089 - val_loss: 0.6097\n",
      "Epoch 7/40\n",
      "\u001b[1m64/64\u001b[0m \u001b[32m━━━━━━━━━━━━━━━━━━━━\u001b[0m\u001b[37m\u001b[0m \u001b[1m1s\u001b[0m 10ms/step - accuracy: 0.7815 - loss: 0.6010 - val_accuracy: 0.8111 - val_loss: 0.5784\n",
      "Epoch 8/40\n",
      "\u001b[1m64/64\u001b[0m \u001b[32m━━━━━━━━━━━━━━━━━━━━\u001b[0m\u001b[37m\u001b[0m \u001b[1m1s\u001b[0m 10ms/step - accuracy: 0.8083 - loss: 0.5658 - val_accuracy: 0.8156 - val_loss: 0.5386\n",
      "Epoch 9/40\n",
      "\u001b[1m64/64\u001b[0m \u001b[32m━━━━━━━━━━━━━━━━━━━━\u001b[0m\u001b[37m\u001b[0m \u001b[1m1s\u001b[0m 10ms/step - accuracy: 0.8112 - loss: 0.5270 - val_accuracy: 0.8111 - val_loss: 0.4976\n",
      "Epoch 10/40\n",
      "\u001b[1m64/64\u001b[0m \u001b[32m━━━━━━━━━━━━━━━━━━━━\u001b[0m\u001b[37m\u001b[0m \u001b[1m1s\u001b[0m 11ms/step - accuracy: 0.8121 - loss: 0.4910 - val_accuracy: 0.8111 - val_loss: 0.4705\n",
      "Epoch 11/40\n",
      "\u001b[1m64/64\u001b[0m \u001b[32m━━━━━━━━━━━━━━━━━━━━\u001b[0m\u001b[37m\u001b[0m \u001b[1m1s\u001b[0m 10ms/step - accuracy: 0.8125 - loss: 0.4674 - val_accuracy: 0.8156 - val_loss: 0.4572\n",
      "Epoch 12/40\n",
      "\u001b[1m64/64\u001b[0m \u001b[32m━━━━━━━━━━━━━━━━━━━━\u001b[0m\u001b[37m\u001b[0m \u001b[1m1s\u001b[0m 10ms/step - accuracy: 0.8201 - loss: 0.4516 - val_accuracy: 0.8133 - val_loss: 0.4511\n",
      "Epoch 13/40\n",
      "\u001b[1m64/64\u001b[0m \u001b[32m━━━━━━━━━━━━━━━━━━━━\u001b[0m\u001b[37m\u001b[0m \u001b[1m1s\u001b[0m 10ms/step - accuracy: 0.8215 - loss: 0.4490 - val_accuracy: 0.8111 - val_loss: 0.4479\n",
      "Epoch 14/40\n",
      "\u001b[1m64/64\u001b[0m \u001b[32m━━━━━━━━━━━━━━━━━━━━\u001b[0m\u001b[37m\u001b[0m \u001b[1m1s\u001b[0m 11ms/step - accuracy: 0.8199 - loss: 0.4430 - val_accuracy: 0.8111 - val_loss: 0.4457\n",
      "Epoch 15/40\n",
      "\u001b[1m64/64\u001b[0m \u001b[32m━━━━━━━━━━━━━━━━━━━━\u001b[0m\u001b[37m\u001b[0m \u001b[1m1s\u001b[0m 11ms/step - accuracy: 0.8184 - loss: 0.4395 - val_accuracy: 0.8111 - val_loss: 0.4441\n",
      "Epoch 16/40\n",
      "\u001b[1m64/64\u001b[0m \u001b[32m━━━━━━━━━━━━━━━━━━━━\u001b[0m\u001b[37m\u001b[0m \u001b[1m1s\u001b[0m 11ms/step - accuracy: 0.8220 - loss: 0.4371 - val_accuracy: 0.8111 - val_loss: 0.4428\n",
      "Epoch 17/40\n",
      "\u001b[1m64/64\u001b[0m \u001b[32m━━━━━━━━━━━━━━━━━━━━\u001b[0m\u001b[37m\u001b[0m \u001b[1m1s\u001b[0m 10ms/step - accuracy: 0.8182 - loss: 0.4324 - val_accuracy: 0.8111 - val_loss: 0.4416\n",
      "Epoch 18/40\n",
      "\u001b[1m64/64\u001b[0m \u001b[32m━━━━━━━━━━━━━━━━━━━━\u001b[0m\u001b[37m\u001b[0m \u001b[1m1s\u001b[0m 10ms/step - accuracy: 0.8171 - loss: 0.4307 - val_accuracy: 0.8111 - val_loss: 0.4409\n",
      "Epoch 19/40\n",
      "\u001b[1m64/64\u001b[0m \u001b[32m━━━━━━━━━━━━━━━━━━━━\u001b[0m\u001b[37m\u001b[0m \u001b[1m1s\u001b[0m 10ms/step - accuracy: 0.8191 - loss: 0.4321 - val_accuracy: 0.8133 - val_loss: 0.4399\n",
      "Epoch 20/40\n",
      "\u001b[1m64/64\u001b[0m \u001b[32m━━━━━━━━━━━━━━━━━━━━\u001b[0m\u001b[37m\u001b[0m \u001b[1m1s\u001b[0m 11ms/step - accuracy: 0.8203 - loss: 0.4250 - val_accuracy: 0.8067 - val_loss: 0.4390\n",
      "Epoch 21/40\n",
      "\u001b[1m64/64\u001b[0m \u001b[32m━━━━━━━━━━━━━━━━━━━━\u001b[0m\u001b[37m\u001b[0m \u001b[1m1s\u001b[0m 10ms/step - accuracy: 0.8177 - loss: 0.4251 - val_accuracy: 0.8089 - val_loss: 0.4383\n",
      "Epoch 22/40\n",
      "\u001b[1m64/64\u001b[0m \u001b[32m━━━━━━━━━━━━━━━━━━━━\u001b[0m\u001b[37m\u001b[0m \u001b[1m1s\u001b[0m 10ms/step - accuracy: 0.8190 - loss: 0.4262 - val_accuracy: 0.8111 - val_loss: 0.4378\n",
      "Epoch 23/40\n",
      "\u001b[1m64/64\u001b[0m \u001b[32m━━━━━━━━━━━━━━━━━━━━\u001b[0m\u001b[37m\u001b[0m \u001b[1m1s\u001b[0m 10ms/step - accuracy: 0.8169 - loss: 0.4279 - val_accuracy: 0.8133 - val_loss: 0.4376\n",
      "Epoch 24/40\n",
      "\u001b[1m64/64\u001b[0m \u001b[32m━━━━━━━━━━━━━━━━━━━━\u001b[0m\u001b[37m\u001b[0m \u001b[1m1s\u001b[0m 10ms/step - accuracy: 0.8174 - loss: 0.4231 - val_accuracy: 0.8111 - val_loss: 0.4370\n",
      "Epoch 25/40\n",
      "\u001b[1m64/64\u001b[0m \u001b[32m━━━━━━━━━━━━━━━━━━━━\u001b[0m\u001b[37m\u001b[0m \u001b[1m1s\u001b[0m 10ms/step - accuracy: 0.8192 - loss: 0.4231 - val_accuracy: 0.8111 - val_loss: 0.4365\n",
      "Epoch 26/40\n",
      "\u001b[1m64/64\u001b[0m \u001b[32m━━━━━━━━━━━━━━━━━━━━\u001b[0m\u001b[37m\u001b[0m \u001b[1m1s\u001b[0m 10ms/step - accuracy: 0.8179 - loss: 0.4191 - val_accuracy: 0.8111 - val_loss: 0.4360\n",
      "Epoch 27/40\n",
      "\u001b[1m64/64\u001b[0m \u001b[32m━━━━━━━━━━━━━━━━━━━━\u001b[0m\u001b[37m\u001b[0m \u001b[1m1s\u001b[0m 10ms/step - accuracy: 0.8131 - loss: 0.4205 - val_accuracy: 0.8089 - val_loss: 0.4359\n",
      "Epoch 28/40\n",
      "\u001b[1m64/64\u001b[0m \u001b[32m━━━━━━━━━━━━━━━━━━━━\u001b[0m\u001b[37m\u001b[0m \u001b[1m1s\u001b[0m 10ms/step - accuracy: 0.8200 - loss: 0.4185 - val_accuracy: 0.8111 - val_loss: 0.4357\n",
      "Epoch 29/40\n",
      "\u001b[1m64/64\u001b[0m \u001b[32m━━━━━━━━━━━━━━━━━━━━\u001b[0m\u001b[37m\u001b[0m \u001b[1m1s\u001b[0m 10ms/step - accuracy: 0.8158 - loss: 0.4201 - val_accuracy: 0.8089 - val_loss: 0.4351\n",
      "Epoch 30/40\n",
      "\u001b[1m64/64\u001b[0m \u001b[32m━━━━━━━━━━━━━━━━━━━━\u001b[0m\u001b[37m\u001b[0m \u001b[1m1s\u001b[0m 10ms/step - accuracy: 0.8128 - loss: 0.4149 - val_accuracy: 0.8089 - val_loss: 0.4350\n",
      "Epoch 31/40\n",
      "\u001b[1m64/64\u001b[0m \u001b[32m━━━━━━━━━━━━━━━━━━━━\u001b[0m\u001b[37m\u001b[0m \u001b[1m1s\u001b[0m 10ms/step - accuracy: 0.8190 - loss: 0.4180 - val_accuracy: 0.8089 - val_loss: 0.4348\n",
      "Epoch 32/40\n",
      "\u001b[1m64/64\u001b[0m \u001b[32m━━━━━━━━━━━━━━━━━━━━\u001b[0m\u001b[37m\u001b[0m \u001b[1m1s\u001b[0m 11ms/step - accuracy: 0.8177 - loss: 0.4180 - val_accuracy: 0.8089 - val_loss: 0.4347\n",
      "Epoch 33/40\n",
      "\u001b[1m64/64\u001b[0m \u001b[32m━━━━━━━━━━━━━━━━━━━━\u001b[0m\u001b[37m\u001b[0m \u001b[1m1s\u001b[0m 11ms/step - accuracy: 0.8187 - loss: 0.4178 - val_accuracy: 0.8089 - val_loss: 0.4348\n",
      "Epoch 34/40\n",
      "\u001b[1m64/64\u001b[0m \u001b[32m━━━━━━━━━━━━━━━━━━━━\u001b[0m\u001b[37m\u001b[0m \u001b[1m1s\u001b[0m 10ms/step - accuracy: 0.8151 - loss: 0.4151 - val_accuracy: 0.8067 - val_loss: 0.4344\n",
      "Epoch 35/40\n",
      "\u001b[1m64/64\u001b[0m \u001b[32m━━━━━━━━━━━━━━━━━━━━\u001b[0m\u001b[37m\u001b[0m \u001b[1m1s\u001b[0m 10ms/step - accuracy: 0.8211 - loss: 0.4159 - val_accuracy: 0.8067 - val_loss: 0.4341\n",
      "Epoch 36/40\n",
      "\u001b[1m64/64\u001b[0m \u001b[32m━━━━━━━━━━━━━━━━━━━━\u001b[0m\u001b[37m\u001b[0m \u001b[1m1s\u001b[0m 11ms/step - accuracy: 0.8137 - loss: 0.4191 - val_accuracy: 0.8067 - val_loss: 0.4340\n",
      "Epoch 37/40\n",
      "\u001b[1m64/64\u001b[0m \u001b[32m━━━━━━━━━━━━━━━━━━━━\u001b[0m\u001b[37m\u001b[0m \u001b[1m1s\u001b[0m 10ms/step - accuracy: 0.8212 - loss: 0.4162 - val_accuracy: 0.8067 - val_loss: 0.4338\n",
      "Epoch 38/40\n",
      "\u001b[1m64/64\u001b[0m \u001b[32m━━━━━━━━━━━━━━━━━━━━\u001b[0m\u001b[37m\u001b[0m \u001b[1m1s\u001b[0m 10ms/step - accuracy: 0.8163 - loss: 0.4131 - val_accuracy: 0.8067 - val_loss: 0.4337\n",
      "Epoch 39/40\n",
      "\u001b[1m64/64\u001b[0m \u001b[32m━━━━━━━━━━━━━━━━━━━━\u001b[0m\u001b[37m\u001b[0m \u001b[1m1s\u001b[0m 10ms/step - accuracy: 0.8197 - loss: 0.4152 - val_accuracy: 0.8067 - val_loss: 0.4337\n",
      "Epoch 40/40\n",
      "\u001b[1m64/64\u001b[0m \u001b[32m━━━━━━━━━━━━━━━━━━━━\u001b[0m\u001b[37m\u001b[0m \u001b[1m1s\u001b[0m 11ms/step - accuracy: 0.8210 - loss: 0.4144 - val_accuracy: 0.8089 - val_loss: 0.4334\n"
     ]
    }
   ],
   "source": [
    "from tensorflow.keras.callbacks import EarlyStopping\n",
    "\n",
    "early_stopping = EarlyStopping(monitor='val_loss', patience=10, restore_best_weights=True)\n",
    "\n",
    "# history = model.fit(X_train, y_train, epochs=50, batch_size=32, validation_split=0.1, )\n",
    "\n",
    "history = model.fit(X_train, y_train, epochs=40, batch_size=64, validation_data=(X_val, y_val), callbacks=[early_stopping])"
   ]
  },
  {
   "cell_type": "code",
   "execution_count": 34,
   "metadata": {},
   "outputs": [
    {
     "data": {
      "image/png": "[encoded data removed]",
      "text/plain": [
       "<Figure size 640x480 with 1 Axes>"
      ]
     },
     "metadata": {},
     "output_type": "display_data"
    },
    {
     "data": {
      "image/png": "[encoded data removed]",
      "text/plain": [
       "<Figure size 640x480 with 1 Axes>"
      ]
     },
     "metadata": {},
     "output_type": "display_data"
    }
   ],
   "source": [
    "import matplotlib.pyplot as plt\n",
    "\n",
    "model_name = 'model-2' if cell_size == 250 else 'model-1'\n",
    "\n",
    "def plot_history(history, key):\n",
    "  plt.plot(history.history[key])\n",
    "  plt.plot(history.history['val_'+key])\n",
    "  plt.xlabel(\"Epochs\")\n",
    "  plt.ylabel(key)\n",
    "  plt.legend([key, 'val_'+key])\n",
    "  plt.title(f'Learning Curve ({model_name} ({cell_size}x{cell_size}) cell size)')\n",
    "  plt.show()\n",
    "# Plot the history\n",
    "plot_history(history, 'loss')\n",
    "plot_history(history, 'accuracy')\n",
    "\n",
    "# plot_history(history, 'precision')\n",
    "# plot_history(history, 'recall')\n"
   ]
  },
  {
   "cell_type": "code",
   "execution_count": 80,
   "metadata": {},
   "outputs": [
    {
     "name": "stdout",
     "output_type": "stream",
     "text": [
      "\u001b[1m15/15\u001b[0m \u001b[32m━━━━━━━━━━━━━━━━━━━━\u001b[0m\u001b[37m\u001b[0m \u001b[1m0s\u001b[0m 9ms/step - accuracy: 0.7984 - loss: 0.4311\n",
      "Accuracy: 80.89\n",
      "\u001b[1m15/15\u001b[0m \u001b[32m━━━━━━━━━━━━━━━━━━━━\u001b[0m\u001b[37m\u001b[0m \u001b[1m0s\u001b[0m 5ms/step \n",
      "Precision: 82.08\n",
      "Recall: 72.08\n",
      "F1-score: 76.76\n"
     ]
    },
    {
     "data": {
      "text/plain": [
       "array([[222,  31],\n",
       "       [ 55, 142]])"
      ]
     },
     "execution_count": 80,
     "metadata": {},
     "output_type": "execute_result"
    }
   ],
   "source": [
    "from sklearn.metrics import accuracy_score, precision_score, recall_score, f1_score, confusion_matrix\n",
    "\n",
    "\n",
    "# Evaluate the model on the val data\n",
    "# _, accuracy = model.evaluate(X_val, y_val)\n",
    "loss, accuracy = model.evaluate(X_val, y_val)\n",
    "print('Accuracy: %.2f' % (accuracy*100))\n",
    "# print(metrics)\n",
    "# Make predictions on the val data\n",
    "y_pred = model.predict(X_val)\n",
    "y_pred_binary = (y_pred >= 0.5).astype(int)  # Convert probabilities to binary predictions   \n",
    "\n",
    "\n",
    "# Calculate additional metrics\n",
    "precision = precision_score(y_val, y_pred_binary)\n",
    "recall = recall_score(y_val, y_pred_binary)\n",
    "f1 = f1_score(y_val,  y_pred_binary)\n",
    "\n",
    "print('Precision: %.2f' % (precision*100))\n",
    "print('Recall: %.2f' % (recall*100))\n",
    "print('F1-score: %.2f' % (f1*100))\n",
    "\n",
    "confusion_matrix(y_val, y_pred_binary)\n"
   ]
  },
  {
   "cell_type": "code",
   "execution_count": 95,
   "metadata": {},
   "outputs": [
    {
     "name": "stdout",
     "output_type": "stream",
     "text": [
      "\u001b[1m77/77\u001b[0m \u001b[32m━━━━━━━━━━━━━━━━━━━━\u001b[0m\u001b[37m\u001b[0m \u001b[1m0s\u001b[0m 5ms/step - accuracy: 0.8582 - loss: 0.3628\n",
      "Accuracy: 87.06\n",
      "\u001b[1m77/77\u001b[0m \u001b[32m━━━━━━━━━━━━━━━━━━━━\u001b[0m\u001b[37m\u001b[0m \u001b[1m0s\u001b[0m 3ms/step\n",
      "Precision: 30.53\n",
      "Recall: 81.41\n",
      "F1-score: 44.41\n"
     ]
    },
    {
     "data": {
      "text/plain": [
       "array([[2012,  289],\n",
       "       [  29,  127]])"
      ]
     },
     "execution_count": 95,
     "metadata": {},
     "output_type": "execute_result"
    }
   ],
   "source": [
    "# Test the model\n",
    "loss, accuracy = model.evaluate(X_test, y_test)\n",
    "print('Accuracy: %.2f' % (accuracy*100))\n",
    "# Make predictions on the test data\n",
    "y_pred = model.predict(X_test)\n",
    "\n",
    "y_pred_binary = (y_pred >= 0.5).astype(int)  # Convert probabilities to binary predictions   \n",
    "\n",
    "\n",
    "# Calculate additional metrics\n",
    "precision = precision_score(y_test, y_pred_binary)\n",
    "recall = recall_score(y_test, y_pred_binary)\n",
    "f1 = f1_score(y_test,  y_pred_binary)\n",
    "\n",
    "print('Precision: %.2f' % (precision*100))\n",
    "print('Recall: %.2f' % (recall*100))\n",
    "print('F1-score: %.2f' % (f1*100))\n",
    "\n",
    "confusion_matrix(y_test, y_pred_binary)\n"
   ]
  },
  {
   "cell_type": "code",
   "execution_count": 131,
   "metadata": {},
   "outputs": [],
   "source": [
    "# # history l1= 50, l2 = 20\n",
    "\n",
    "# 77/77 ━━━━━━━━━━━━━━━━━━━━ 1s 7ms/step - accuracy: 0.8468 - loss: 0.3697\n",
    "# Accuracy: 85.92\n",
    "# 77/77 ━━━━━━━━━━━━━━━━━━━━ 1s 11ms/step\n",
    "# Precision: 73.87\n",
    "# Recall: 52.56\n",
    "# F1-score: 61.42\n"
   ]
  },
  {
   "cell_type": "code",
   "execution_count": 38,
   "metadata": {},
   "outputs": [
    {
     "data": {
      "image/png": "[encoded data removed]",
      "text/plain": [
       "<Figure size 640x480 with 1 Axes>"
      ]
     },
     "metadata": {},
     "output_type": "display_data"
    }
   ],
   "source": [
    "from sklearn import metrics\n",
    "fpr, tpr, _ = metrics.roc_curve(y_test,  y_pred)\n",
    "auc = metrics.roc_auc_score(y_test, y_pred)\n",
    "plt.xlabel('False Positive Rate')\n",
    "plt.ylabel('True Positive Rate')\n",
    "plt.plot([0, 1], [0, 1], 'k--', alpha=0.5)\n",
    "plt.plot(fpr,tpr,label=\"auc=\"+str(auc))\n",
    "plt.legend(loc=4)\n",
    "plt.title(f'AUC {model_name} ({cell_size}x{cell_size}) cell size')\n",
    "plt.show()"
   ]
  },
  {
   "cell_type": "code",
   "execution_count": 86,
   "metadata": {},
   "outputs": [
    {
     "name": "stderr",
     "output_type": "stream",
     "text": [
      "/tmp/ipykernel_11103/1232332473.py:4: SettingWithCopyWarning: \n",
      "A value is trying to be set on a copy of a slice from a DataFrame.\n",
      "Try using .loc[row_indexer,col_indexer] = value instead\n",
      "\n",
      "See the caveats in the documentation: https://pandas.pydata.org/pandas-docs/stable/user_guide/indexing.html#returning-a-view-versus-a-copy\n",
      "  crime_hotspots.loc[:,'predicted'] = y_pred_binary\n"
     ]
    },
    {
     "data": {
      "text/plain": [
       "array([[2272,   29],\n",
       "       [  77,   79]])"
      ]
     },
     "execution_count": 86,
     "metadata": {},
     "output_type": "execute_result"
    }
   ],
   "source": [
    "import datetime\n",
    "crime_hotspots = test_hotspots_crime_counts_df[test_hotspots_crime_counts_df.time_bin.dt.date >= datetime.date(2017, 3, 1) ]\n",
    "\n",
    "crime_hotspots.loc[:,'predicted'] = y_pred_binary\n",
    "# crime_hotspots.to_csv(f'forecasted_result_{cell_size}_threshold_0.5.csv')\n",
    "y_pred_binary.sum()\n",
    "\n",
    "confusion_matrix(crime_hotspots.hotspot, crime_hotspots.predicted)"
   ]
  },
  {
   "cell_type": "code",
   "execution_count": 46,
   "metadata": {},
   "outputs": [],
   "source": [
    "\n",
    "grid = gpd.read_file(os.path.join(current_dir, 'Data', 'grids', str(cell_size),  'crime-forecast-grid.shp'))"
   ]
  },
  {
   "cell_type": "code",
   "execution_count": 87,
   "metadata": {},
   "outputs": [
    {
     "name": "stdout",
     "output_type": "stream",
     "text": [
      "[4460 4576 5042 5043 5044 5156 5157 5270 5271]\n"
     ]
    },
    {
     "data": {
      "text/plain": [
       "array([ 4460,  4576,  4580,  4924,  5040,  5041,  5042,  5043,  5044,\n",
       "        5156,  5157,  5158,  5270,  5271,  5969,  6074,  6172,  7163,\n",
       "        7176,  8765,  9404,  9502, 10154, 10156, 11516])"
      ]
     },
     "execution_count": 87,
     "metadata": {},
     "output_type": "execute_result"
    }
   ],
   "source": [
    "test_time_step_starting_dates = test_time_bins[-7:]\n",
    "crime_hotspots_1st_week = crime_hotspots[crime_hotspots.time_bin.dt.date == test_time_step_starting_dates[0].date() ]\n",
    "\n",
    "predicted_grid_ids = np.array(crime_hotspots_1st_week[crime_hotspots_1st_week['predicted'] == 1].unique_id)\n",
    "hotspot_grid_ids = np.array(crime_hotspots_1st_week[crime_hotspots_1st_week['hotspot'] == 1].unique_id)\n",
    "\n",
    "total_crimes_in_predicted_hotspots = crime_hotspots_1st_week[crime_hotspots_1st_week['predicted'] == 1].crime_count.sum()\n",
    "total_crimes = test_crime_counts_df[test_crime_counts_df.time_bin.dt.date == test_time_step_starting_dates[0].date()].crime_count.sum()\n",
    "\n",
    "predicted_hotspots_area = grid[grid.unique_id.isin(predicted_grid_ids)].area.sum()\n",
    "total_area = grid.area.sum()\n",
    "print(predicted_grid_ids)\n",
    "hotspot_grid_ids\n",
    "# # # x"
   ]
  },
  {
   "cell_type": "code",
   "execution_count": 48,
   "metadata": {},
   "outputs": [
    {
     "name": "stdout",
     "output_type": "stream",
     "text": [
      "221.0\n",
      "1381\n",
      "18325351.73948967\n",
      "4117743414.8055296\n",
      "PAI = 35.95883037835799\n"
     ]
    }
   ],
   "source": [
    "\n",
    "print(total_crimes_in_predicted_hotspots)\n",
    "print(total_crimes)\n",
    "print(predicted_hotspots_area)\n",
    "print(total_area)\n",
    "\n",
    "\n",
    "pai = (total_crimes_in_predicted_hotspots / total_crimes) / (predicted_hotspots_area / total_area)\n",
    "print(f\"PAI = {pai}\")\n",
    "# pai\n"
   ]
  },
  {
   "cell_type": "code",
   "execution_count": 375,
   "metadata": {},
   "outputs": [
    {
     "name": "stdout",
     "output_type": "stream",
     "text": [
      "226\n",
      "270.0\n",
      "501\n",
      "PEI: 0.5389221556886228\n"
     ]
    }
   ],
   "source": [
    "\n",
    "test_crime_count_list = test_crime_counts_df[test_crime_counts_df.time_bin.dt.date == test_time_step_starting_dates[0].date()].crime_count\n",
    "desc_sorted = -np.sort(-np.array(test_crime_count_list))\n",
    "number_of_cells =  math.ceil(predicted_hotspots_area/ (cell_size**2)) # Rough estimation that each cell is of size cell_size_sq\n",
    "maximum_obtainable_crimes_for_the_forecasted_area = desc_sorted[:number_of_cells].sum()\n",
    "\n",
    "pei = total_crimes_in_predicted_hotspots / (maximum_obtainable_crimes_for_the_forecasted_area)\n",
    "\n",
    "print(number_of_cells)\n",
    "print(total_crimes_in_predicted_hotspots)\n",
    "print(maximum_obtainable_crimes_for_the_forecasted_area)\n",
    "print(f\"PEI: {pei}\")\n",
    "\n",
    "# grid['pre']\n",
    "    \n",
    "# # y_test\n",
    "# test_crime_counts_df.crime_count.max()"
   ]
  },
  {
   "cell_type": "code",
   "execution_count": 376,
   "metadata": {},
   "outputs": [
    {
     "data": {
      "text/plain": [
       "(226, 48, 36)"
      ]
     },
     "execution_count": 376,
     "metadata": {},
     "output_type": "execute_result"
    }
   ],
   "source": [
    "len(predicted_grid_ids), len(hotspot_grid_ids), len(np.intersect1d(predicted_grid_ids, hotspot_grid_ids))"
   ]
  },
  {
   "cell_type": "code",
   "execution_count": null,
   "metadata": {},
   "outputs": [],
   "source": []
  },
  {
   "cell_type": "code",
   "execution_count": null,
   "metadata": {},
   "outputs": [],
   "source": [
    "grid.loc[grid.unique_id.isin(predicted_grid_ids), 'hotspot'] = 1\n",
    "grid.loc[grid.unique_id.isin(hotspot_grid_ids), 'hotspot'] = 2\n",
    "grid.loc[grid.unique_id.isin(np.intersect1d(predicted_grid_ids, hotspot_grid_ids)), 'hotspot'] = 3\n",
    "grid.to_file(f\"visualizations/{cell_size}/shape-files/crime-forecast-grid-mar-01-mar-14-threshold-0.9.shp\")\n"
   ]
  },
  {
   "cell_type": "markdown",
   "metadata": {},
   "source": [
    "### For 3 month period"
   ]
  },
  {
   "cell_type": "code",
   "execution_count": 109,
   "metadata": {},
   "outputs": [
    {
     "name": "stdout",
     "output_type": "stream",
     "text": [
      "[ 1522  4013  4348  4349  4460  4575  4576  4577  4580  4692  4693  4809\n",
      "  4811  4814  4815  4924  4926  4927  5038  5040  5041  5042  5043  5044\n",
      "  5046  5153  5155  5156  5157  5158  5160  5269  5270  5271  5676  5774\n",
      "  5776  5967  5969  6074  6172  7079  7163  7176  8557  8575  8653  8765\n",
      "  8768  9071  9404  9502 10069 10154 10155 10156 10508 11440 11441 11516\n",
      " 11517 11781]\n",
      "Index([ 1522,  4013,  4348,  4349,  4460,  4575,  4576,  4577,  4580,  4692,\n",
      "        4693,  4809,  4811,  4814,  4815,  4924,  4926,  4927,  5038,  5040,\n",
      "        5041,  5042,  5043,  5044,  5046,  5153,  5155,  5156,  5157,  5158,\n",
      "        5160,  5269,  5270,  5271,  5676,  5774,  5776,  5967,  5969,  6074,\n",
      "        6172,  7079,  7163,  7176,  8557,  8575,  8653,  8765,  8768,  9071,\n",
      "        9404,  9502, 10069, 10154, 10155, 10156, 10508, 11440, 11441, 11516,\n",
      "       11517, 11781],\n",
      "      dtype='int64', name='unique_id')\n"
     ]
    }
   ],
   "source": [
    "\n",
    "\n",
    "all_predicted_hotspot_cell_ids =  crime_hotspots[crime_hotspots.predicted == 1].unique_id.unique()\n",
    "all_hotspot_cell_ids =  crime_hotspots[crime_hotspots.hotspot == 1].unique_id.unique()\n",
    "all_hotspot_cells =  crime_hotspots.groupby('unique_id').agg({'hotspot': lambda x: np.any(x == 1)}).astype(int)\n",
    "all_hotspot_cell_ids2 = all_hotspot_cells.loc[all_hotspot_cells.hotspot == 1].index\n",
    "\n",
    "total_crimes_in_predicted_hotspots = crime_hotspots[crime_hotspots['predicted'] == 1].crime_count.sum()\n",
    "total_crimes = test_crime_counts_df[test_crime_counts_df.time_bin.dt.date >= test_time_step_starting_dates[0].date()].crime_count.sum()\n",
    "\n",
    "predicted_hotspots_area = grid[grid.unique_id.isin(all_predicted_hotspot_cell_ids)].area.sum()\n",
    "total_area = grid.area.sum()\n",
    "\n",
    "# print(np.intersect1d(all_hotspot_cell_ids, all_predicted_hotspot_cell_ids))\n",
    "# print(all_predicted_hotspot_cell_ids)\n",
    "all_hotspot_cell_ids.size\n",
    "print(all_hotspot_cell_ids)\n",
    "print(all_hotspot_cell_ids2)\n",
    "\n"
   ]
  },
  {
   "cell_type": "code",
   "execution_count": 379,
   "metadata": {},
   "outputs": [
    {
     "name": "stdout",
     "output_type": "stream",
     "text": [
      "1926.0\n",
      "9553\n",
      "22915275.19749321\n",
      "4117743414.806666\n",
      "PAI = 36.22852971647746\n"
     ]
    }
   ],
   "source": [
    "\n",
    "print(total_crimes_in_predicted_hotspots)\n",
    "print(total_crimes)\n",
    "print(predicted_hotspots_area)\n",
    "print(total_area)\n",
    "\n",
    "pai = (total_crimes_in_predicted_hotspots / total_crimes) / (predicted_hotspots_area / total_area)\n",
    "print(f\"PAI = {pai}\")\n"
   ]
  },
  {
   "cell_type": "code",
   "execution_count": 380,
   "metadata": {},
   "outputs": [],
   "source": [
    "# 763.0\n",
    "# 9553\n",
    "# 7165351.739489673\n",
    "# 4117743414.8055296\n",
    "# PAI = 45.89934914111569"
   ]
  },
  {
   "cell_type": "code",
   "execution_count": 381,
   "metadata": {},
   "outputs": [
    {
     "name": "stdout",
     "output_type": "stream",
     "text": [
      "PEI: 0.6800847457627118\n",
      "1926.0\n",
      "2832\n"
     ]
    }
   ],
   "source": [
    "\n",
    "\n",
    "desc_sorted_test_crime_count_list = test_crime_counts_df.groupby('unique_id').agg({'crime_count': lambda x: sum(x)}).crime_count.sort_values(ascending=False)\n",
    "number_of_cells =  math.ceil(predicted_hotspots_area/ (cell_size**2)) # Rough estimation that each cell is of size cell_size_sq\n",
    "# print(number_of_cells)\n",
    "maximum_obtainable_crimes_for_the_forecasted_area = desc_sorted_test_crime_count_list[:number_of_cells].sum()\n",
    "# print(desc_sorted)\n",
    "pei = total_crimes_in_predicted_hotspots / (maximum_obtainable_crimes_for_the_forecasted_area)\n",
    "print(f\"PEI: {pei}\")\n",
    "print(total_crimes_in_predicted_hotspots)\n",
    "print(maximum_obtainable_crimes_for_the_forecasted_area)\n",
    "\n"
   ]
  },
  {
   "cell_type": "code",
   "execution_count": 296,
   "metadata": {},
   "outputs": [],
   "source": [
    "grid.loc[grid.unique_id.isin(all_predicted_hotspot_cell_ids), 'hotspot'] = 1\n",
    "grid.loc[grid.unique_id.isin(all_hotspot_cell_ids), 'hotspot'] = 2\n",
    "grid.loc[grid.unique_id.isin(np.intersect1d(all_predicted_hotspot_cell_ids, all_hotspot_cell_ids)), 'hotspot'] = 3\n",
    "grid.to_file(f\"visualizations/{cell_size}/shape-files/crime-forecast-grid-mar-01-may-31-threshold-0.9.shp\")"
   ]
  },
  {
   "cell_type": "markdown",
   "metadata": {},
   "source": [
    "# OLD extra\n"
   ]
  },
  {
   "cell_type": "code",
   "execution_count": null,
   "metadata": {},
   "outputs": [],
   "source": [
    "# import numpy as np\n",
    "# from sklearn.model_selection import GridSearchCV\n",
    "# # from tensorflow.keras.wrappers.scikit_learn import KerasClassifier\n",
    "# # from tensorflow.keras.wrappers.scikit_learn import KerasClassifier\n",
    "# # from tensorflow.keras.wrappers.scikit_learn import KerasClassifier\n",
    "# from scikeras.wrappers import KerasClassifier\n",
    "\n",
    "\n",
    "# from tensorflow.keras.models import Sequential\n",
    "# from tensorflow.keras.layers import LSTM, Dense\n",
    "# from tensorflow.keras.optimizers import Adam\n",
    "\n",
    "\n",
    "# # Define the LSTM model\n",
    "# def create_model(units=50, learning_rate=0.001):\n",
    "#     model = Sequential()\n",
    "#     model.add(LSTM(units=units, return_sequences=True, input_shape=(X_train.shape[1], X_train.shape[2])))\n",
    "#     model.add(LSTM(units=units))\n",
    "#     model.add(Dense(1, activation='sigmoid'))\n",
    "#     model.compile(loss='binary_crossentropy', optimizer=Adam(learning_rate=learning_rate), metrics=['accuracy'])\n",
    "#     return model\n",
    "\n",
    "# # Create a KerasClassifier\n",
    "# model = KerasClassifier(build_fn=create_model)\n",
    "\n",
    "# # Define the hyperparameter grid\n",
    "# param_grid = {\n",
    "#     'model__units': [20, 50, 80],\n",
    "#     'model__learning_rate': [0.01, 0.001, 0.0001],\n",
    "#     'batch_size': [16, 32, 64],\n",
    "#     'epochs': [20, 30, 40]\n",
    "# }\n",
    "\n",
    "# # Create a GridSearchCV object\n",
    "# grid = GridSearchCV(estimator=model, param_grid=param_grid, cv=3)  # 3-fold cross-validation\n",
    "\n",
    "# # Fit the grid search to the data\n",
    "# grid_result = grid.fit(X_train, y_train)\n",
    "\n",
    "# # Print the best hyperparameters\n",
    "# print(\"Best: %f using %s\" % (grid_result.best_score_, grid_result.best_params_))"
   ]
  },
  {
   "cell_type": "code",
   "execution_count": null,
   "metadata": {},
   "outputs": [],
   "source": [
    "# ## Grid Search\n",
    "\n",
    "# # import os\n",
    "# # os.environ[\"CUDA_VISIBLE_DEVICES\"] = \"-1\"\n",
    "\n",
    "\n",
    "# import tensorflow as tf\n",
    "# print(\"Num GPUs Available: \", len(tf.config.list_physical_devices('GPU')))\n",
    "\n",
    "# import numpy as np\n",
    "# from sklearn.model_selection import GridSearchCV\n",
    "# # from tensorflow.keras.wrappers.scikit_learn import KerasClassifier\n",
    "# from scikeras.wrappers import KerasClassifier\n",
    "\n",
    "\n",
    "# from tensorflow.keras.models import Sequential\n",
    "# from tensorflow.keras.layers import LSTM, Dense\n",
    "# from tensorflow.keras.optimizers import Adam\n",
    "\n",
    "\n",
    "# # Define the LSTM model\n",
    "# def create_model(units_layer1=50,units_layer2=50, learning_rate=0.001):\n",
    "#     model = Sequential()\n",
    "#     model.add(LSTM(units=units_layer1, return_sequences=True, input_shape=(X_train.shape[1], X_train.shape[2])))\n",
    "#     model.add(LSTM(units=units_layer2))\n",
    "#     model.add(Dense(1, activation='sigmoid'))\n",
    "#     model.compile(loss='binary_crossentropy', optimizer=Adam(learning_rate=learning_rate), metrics=['accuracy'])\n",
    "#     return model\n",
    "\n",
    "# # Create a KerasClassifier\n",
    "# model = KerasClassifier(build_fn=create_model, metrics=['accuracy'],verbose=0)\n",
    "\n",
    "# # Define the hyperparameter grid\n",
    "# # param_grid = {\n",
    "# #     'model__units': [20, 50, 80],\n",
    "# #     'model__learning_rate': [0.01, 0.001, 0.0001],\n",
    "# #     'batch_size': [16, 32, 64],\n",
    "# #     'epochs': [20, 30, 40]\n",
    "# # }\n",
    "\n",
    "# param_grid = {\n",
    "#     'model__units': [20,50,80],\n",
    "#     'model__learning_rate': [0.001, 0.0001],\n",
    "#     'batch_size': [32, 64],\n",
    "#     'epochs': [20, 50]\n",
    "# }\n",
    "# param_grid = {\n",
    "#     'model__units_layer1': [50,100],\n",
    "#     'model__units_layer2': [25,50],\n",
    "#     'model__learning_rate': [0.001, 0.0001],\n",
    "#     'batch_size': [32],\n",
    "#     'epochs': [50]\n",
    "# }\n",
    "\n",
    "# model = KerasClassifier(model=create_model, optimizer='adam', verbose=0)\n",
    "\n",
    "# # Fit and predict\n",
    "# # model.fit(X_train, y_train)\n",
    "# # predictions = model.predict(X_test)\n",
    "\n",
    "\n",
    "# # # Create a GridSearchCV object\n",
    "# grid = GridSearchCV(estimator=model, param_grid=param_grid, cv=3, error_score='raise')  # 3-fold cross-validation\n",
    "\n",
    "# # Fit the grid search to the data\n",
    "# grid_result = grid.fit(X_train, y_train)\n",
    "\n",
    "# # Print the best hyperparameters\n",
    "# print(f\"Best: {grid_result.best_score_} using {grid_result.best_params_}\")"
   ]
  }
 ],
 "metadata": {
  "kernelspec": {
   "display_name": "saurav_sir_ann",
   "language": "python",
   "name": "python3"
  },
  "language_info": {
   "codemirror_mode": {
    "name": "ipython",
    "version": 3
   },
   "file_extension": ".py",
   "mimetype": "text/x-python",
   "name": "python",
   "nbconvert_exporter": "python",
   "pygments_lexer": "ipython3",
   "version": "3.10.12"
  }
 },
 "nbformat": 4,
 "nbformat_minor": 2
}
