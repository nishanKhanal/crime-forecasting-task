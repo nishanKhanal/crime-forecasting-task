{
 "cells": [
  {
   "cell_type": "code",
   "execution_count": 343,
   "metadata": {},
   "outputs": [],
   "source": [
    "import pandas as pd\n",
    "import geopandas as gpd\n",
    "from datetime import timedelta\n",
    "import datetime\n",
    "import random\n",
    "import tensorflow as tf\n",
    "import math\n",
    "import numpy as np\n",
    "import os"
   ]
  },
  {
   "cell_type": "code",
   "execution_count": 344,
   "metadata": {},
   "outputs": [],
   "source": [
    "def make_result_reproducible(seed_value):\n",
    "\n",
    "    # 1. Set the `PYTHONHASHSEED` environment variable at a fixed value\n",
    "    # import os\n",
    "    os.environ['PYTHONHASHSEED']=str(seed_value)\n",
    "    os.environ['CUDA_VISIBLE_DEVICES'] = ''\n",
    "\n",
    "    # 2. Set the `python` built-in pseudo-random generator at a fixed value\n",
    "    # import random\n",
    "    random.seed(seed_value)\n",
    "\n",
    "    # For numpy\n",
    "    np.random.seed(seed_value)\n",
    "\n",
    "    # 4. Set the `tensorflow` pseudo-random generator at a fixed value\n",
    "    # import tensorflow as tf\n",
    "    tf.random.set_seed(seed_value)\n",
    "    tf.keras.utils.set_random_seed(seed_value)\n",
    "\n",
    "\n",
    "def assign_time_bin(df, aggregation_period):\n",
    "    start_date = df['occ_date'].min().floor('D')  # Dataset's start date\n",
    "    end_date = df['occ_date'].max().ceil('D') + timedelta(aggregation_period) # Dataset's end date\n",
    "    print(end_date)\n",
    "    time_bins = pd.date_range(start=start_date, end=end_date, freq=f'{aggregation_period}D')\n",
    "\n",
    "    # Bin the timestamps\n",
    "    df['time_bin'] = pd.cut(\n",
    "        df['occ_date'],\n",
    "        bins=time_bins,\n",
    "        labels=time_bins[:-1],  # Label bins by their start date\n",
    "        right=False\n",
    "    )\n",
    "    df['time_bin'] = df['time_bin'].astype('datetime64[ns]')\n",
    "\n",
    "    print(df['time_bin'].dtype)\n",
    "    return df\n",
    "\n",
    "def prepare_data(crime_df, grid_df, aggregation_period):\n",
    "    relevant_columns = ['occ_date', 'x_coordinate', 'y_coordinate']\n",
    "    crime_df = crime_df[relevant_columns]\n",
    "\n",
    "    crime_df = gpd.GeoDataFrame(crime_df, geometry=gpd.points_from_xy(crime_df.x_coordinate, crime_df.y_coordinate))\n",
    "    crime_df.set_crs('EPSG:2913', inplace=True)\n",
    "\n",
    "    grid_crime_df = gpd.sjoin(crime_df, grid_df, how='left', predicate='within')\n",
    "    grid_crime_df.dropna(inplace=True) # drop those crimes that don't fall within any grids inside the city boundry\n",
    "\n",
    "    grid_crime_df.drop('index_right', axis=1, inplace=True)\n",
    "\n",
    "    grid_crime_df['occ_date'] = pd.to_datetime(grid_crime_df['occ_date'])  # Ensure time is datetime\n",
    "    grid_crime_df['hotspot'] = grid_crime_df['hotspot'].astype('int64')  \n",
    "    grid_crime_df['unique_id'] = grid_crime_df['unique_id'].astype('int64') \n",
    "\n",
    "    # Aggregate crime counts over 14 days period\n",
    "    # grid_crime_df['time_bin'] = grid_crime_df['occ_date'].dt.floor(f'{aggregation_period}D') # doesn't allow for custom bins\n",
    "    grid_crime_df = assign_time_bin(grid_crime_df, aggregation_period)\n",
    "\n",
    "    grid_crime_df.drop(columns=['x_index','y_index'],axis=1, inplace =True)\n",
    "\n",
    "    crime_counts_df = grid_crime_df.groupby(['unique_id', 'time_bin']).size().reset_index(name='crime_count')\n",
    "\n",
    "    return crime_counts_df\n",
    "\n",
    "def fill_in_hotspots(crime_counts_df,  hotspot_cells, threshold):\n",
    "    \n",
    "    # hotspot_cells = crime_counts_df.groupby(['unique_id']).agg({'crime_count': lambda x: any(x >= 5)})\n",
    "\n",
    "    # hotspot_cells = hotspot_cells[hotspot_cells['crime_count'] == True].index\n",
    "\n",
    "    potential_hotspots_crime_counts_df = crime_counts_df[crime_counts_df['unique_id'].isin(hotspot_cells)]\n",
    "    potential_hotspots_crime_counts_df.loc[:,'hotspot'] = 0\n",
    "    potential_hotspots_crime_counts_df.loc[ potential_hotspots_crime_counts_df['crime_count'] >= threshold , 'hotspot'] = 1\n",
    "\n",
    "    return potential_hotspots_crime_counts_df\n",
    "\n",
    "def create_sequences(df, seq_length):\n",
    "    sequences = []\n",
    "    for cell_id in df['unique_id'].unique():\n",
    "        cell_data = df[df['unique_id'] == cell_id].sort_values('time_bin')\n",
    "        for i in range(len(cell_data) - seq_length ):\n",
    "            sequence = cell_data.iloc[i: i + seq_length + 1]\n",
    "            sequences.append(sequence)\n",
    "    return sequences\n",
    "\n",
    "\n"
   ]
  },
  {
   "cell_type": "code",
   "execution_count": 345,
   "metadata": {},
   "outputs": [
    {
     "name": "stdout",
     "output_type": "stream",
     "text": [
      "2017-03-14 00:00:00\n",
      "datetime64[ns]\n",
      "2017-06-14 00:00:00\n",
      "datetime64[ns]\n",
      "3.0\n"
     ]
    },
    {
     "name": "stderr",
     "output_type": "stream",
     "text": [
      "/tmp/ipykernel_6322/679699447.py:72: SettingWithCopyWarning: \n",
      "A value is trying to be set on a copy of a slice from a DataFrame.\n",
      "Try using .loc[row_indexer,col_indexer] = value instead\n",
      "\n",
      "See the caveats in the documentation: https://pandas.pydata.org/pandas-docs/stable/user_guide/indexing.html#returning-a-view-versus-a-copy\n",
      "  potential_hotspots_crime_counts_df.loc[:,'hotspot'] = 0\n",
      "/tmp/ipykernel_6322/679699447.py:72: SettingWithCopyWarning: \n",
      "A value is trying to be set on a copy of a slice from a DataFrame.\n",
      "Try using .loc[row_indexer,col_indexer] = value instead\n",
      "\n",
      "See the caveats in the documentation: https://pandas.pydata.org/pandas-docs/stable/user_guide/indexing.html#returning-a-view-versus-a-copy\n",
      "  potential_hotspots_crime_counts_df.loc[:,'hotspot'] = 0\n"
     ]
    }
   ],
   "source": [
    "\n",
    "current_dir = os.getcwd()\n",
    "train_base_dir = os.path.join(current_dir, \"Data\", \"train\")\n",
    "test_base_dir = os.path.join(current_dir, \"Data\", \"test\")\n",
    "cell_size = 250\n",
    "aggregation_period = 14 # In days\n",
    "seed_value = 1\n",
    "# make_result_reproducible(seed_value)\n",
    "\n",
    "train_crime_df = pd.read_csv(os.path.join(train_base_dir,'combined_train_data.csv'))\n",
    "test_crime_df = pd.read_csv(os.path.join(test_base_dir,'test_data.csv'))\n",
    "\n",
    "train_crime_df['occ_date'] = pd.to_datetime(train_crime_df['occ_date'])\n",
    "# train_crime_df = train_crime_df[train_crime_df.occ_date.dt.date >= datetime.date(2012,3,7)] # for perfect alignment of days till feb 28\n",
    "grid_df = gpd.read_file(os.path.join(current_dir, 'Data', 'grids', str(cell_size),  'crime-forecast-grid.shp'))\n",
    "\n",
    "train_crime_counts_df = prepare_data(train_crime_df, grid_df, aggregation_period)\n",
    "test_crime_counts_df = prepare_data(test_crime_df, grid_df, aggregation_period)\n",
    "\n",
    "# Using top 2% of the crime-counts as threshold for identifying hotspot\n",
    "threshold = train_crime_counts_df.crime_count.quantile(0.98)\n",
    "print(threshold)\n",
    "\n",
    "hotspot_cells = train_crime_counts_df.groupby(['unique_id']).agg({'crime_count': lambda x: any(x >= threshold)})\n",
    "\n",
    "hotspot_cells = hotspot_cells[hotspot_cells['crime_count'] == True].index\n",
    "\n",
    "\n",
    "train_hotspots_crime_counts_df = fill_in_hotspots(train_crime_counts_df, hotspot_cells, threshold)\n",
    "test_hotspots_crime_counts_df = fill_in_hotspots(test_crime_counts_df, hotspot_cells, threshold)\n",
    "\n",
    "\n",
    "sequence_length = 26 # looking over whole year data to capture seasonal trend\n"
   ]
  },
  {
   "cell_type": "code",
   "execution_count": 346,
   "metadata": {},
   "outputs": [],
   "source": [
    "# run only once\n",
    "last_time_bin = train_hotspots_crime_counts_df.time_bin.max()\n",
    "start_time_bin_test_data_dependends_upon = last_time_bin - timedelta(aggregation_period*(sequence_length-1))\n",
    "historical_data_for_test_df = train_hotspots_crime_counts_df[train_hotspots_crime_counts_df.time_bin >= start_time_bin_test_data_dependends_upon ]\n",
    "test_hotspots_crime_counts_df = pd.concat([historical_data_for_test_df, test_hotspots_crime_counts_df])\n",
    "\n"
   ]
  },
  {
   "cell_type": "code",
   "execution_count": 347,
   "metadata": {},
   "outputs": [],
   "source": [
    "train_time_bins = pd.date_range(train_crime_counts_df.time_bin.min(), train_crime_counts_df.time_bin.max(), freq='14d')\n",
    "test_time_bins_history = pd.date_range(start_time_bin_test_data_dependends_upon, train_crime_counts_df.time_bin.max(), freq='14d')\n",
    "test_time_bins_current = pd.date_range(test_crime_counts_df.time_bin.min(), test_crime_counts_df.time_bin.max(), freq='14d')\n",
    "test_time_bins = test_time_bins_history.append(test_time_bins_current)"
   ]
  },
  {
   "cell_type": "code",
   "execution_count": 348,
   "metadata": {},
   "outputs": [],
   "source": [
    "# Create every possible hotspot_cell-time_bin combination\n",
    "grid_time_bin_train_df = pd.DataFrame([(grid, time_bin) for grid in hotspot_cells for time_bin in train_time_bins],columns=['unique_id', 'time_bin'])\n",
    "grid_time_bin_test_df = pd.DataFrame([(grid, time_bin) for grid in hotspot_cells for time_bin in test_time_bins.sort_values()],columns=['unique_id', 'time_bin'])\n"
   ]
  },
  {
   "cell_type": "code",
   "execution_count": 349,
   "metadata": {},
   "outputs": [],
   "source": [
    "# run only once\n",
    "train_hotspots_crime_counts_df = grid_time_bin_train_df.merge(train_hotspots_crime_counts_df, on=['unique_id', 'time_bin'], how='left').fillna(0)\n",
    "test_hotspots_crime_counts_df = grid_time_bin_test_df.merge(test_hotspots_crime_counts_df, on=['unique_id', 'time_bin'], how='left').fillna(0)"
   ]
  },
  {
   "cell_type": "code",
   "execution_count": 350,
   "metadata": {},
   "outputs": [],
   "source": [
    "train_hotspots_crime_counts_df['hotspot'] = train_hotspots_crime_counts_df['hotspot'].astype(int)\n",
    "test_hotspots_crime_counts_df['hotspot'] = test_hotspots_crime_counts_df['hotspot'].astype(int)"
   ]
  },
  {
   "cell_type": "code",
   "execution_count": 351,
   "metadata": {},
   "outputs": [],
   "source": [
    "\n",
    "train_hotspots_crime_counts_df = train_hotspots_crime_counts_df.sort_values(['unique_id', 'time_bin'])\n",
    "test_hotspots_crime_counts_df = test_hotspots_crime_counts_df.sort_values(['unique_id', 'time_bin'])"
   ]
  },
  {
   "cell_type": "code",
   "execution_count": 352,
   "metadata": {},
   "outputs": [],
   "source": [
    "training_sequences = create_sequences(train_hotspots_crime_counts_df, seq_length=sequence_length)\n"
   ]
  },
  {
   "cell_type": "code",
   "execution_count": 353,
   "metadata": {},
   "outputs": [],
   "source": [
    "# training_sequences[0]"
   ]
  },
  {
   "cell_type": "code",
   "execution_count": 354,
   "metadata": {},
   "outputs": [],
   "source": [
    "testing_sequences = create_sequences(test_hotspots_crime_counts_df, seq_length=sequence_length)"
   ]
  },
  {
   "cell_type": "code",
   "execution_count": 355,
   "metadata": {},
   "outputs": [],
   "source": [
    "# testing_sequences[0]"
   ]
  },
  {
   "cell_type": "code",
   "execution_count": 356,
   "metadata": {},
   "outputs": [
    {
     "name": "stdout",
     "output_type": "stream",
     "text": [
      "4627\n"
     ]
    }
   ],
   "source": [
    "from sklearn.model_selection import train_test_split\n",
    "from sklearn.utils import resample\n",
    "\n",
    "positive_data = []\n",
    "negative_data = []\n",
    "for sequence in training_sequences:\n",
    "    if sequence['hotspot'].iloc[-1] == 1:\n",
    "        positive_data.append(sequence)\n",
    "    else:\n",
    "        negative_data.append(sequence)\n",
    "\n",
    "print(len(positive_data))\n",
    "negative_sample = resample(negative_data, replace=False,  n_samples=len(positive_data), random_state=seed_value) \n",
    "\n",
    "balanced_data = positive_data + negative_sample\n",
    "\n",
    "\n",
    "\n",
    "train_data, val_data = train_test_split(balanced_data, test_size=0.1, random_state=seed_value)\n",
    "\n",
    "test_data = testing_sequences\n",
    "# # Split the remaining set into validation and test sets\n",
    "# val_data, test_data = train_test_split(val_test_data, test_size=0.5, random_state=1)"
   ]
  },
  {
   "cell_type": "code",
   "execution_count": 357,
   "metadata": {},
   "outputs": [
    {
     "data": {
      "text/plain": [
       "((8328, 26, 1), (10199, 26, 1), (8328,), (10199,))"
      ]
     },
     "execution_count": 357,
     "metadata": {},
     "output_type": "execute_result"
    }
   ],
   "source": [
    "def prepare_trainable_data(samples):\n",
    "    X = []\n",
    "    y = []\n",
    "    for seq in samples:\n",
    "        X_seq = seq[['crime_count']].values  # Select features for X\n",
    "        X.append(X_seq[:-1])  # Exclude the last time step from X\n",
    "        y.append(seq['hotspot'].iloc[-1])  # Use the last time step's 'hotspot' value as y\n",
    "    # return X, y\n",
    "    return np.array(X), np.array(y)\n",
    "\n",
    "# Prepare training data\n",
    "X_train, y_train = prepare_trainable_data(train_data)\n",
    "\n",
    "# Prepare validation data\n",
    "X_val, y_val = prepare_trainable_data(val_data)\n",
    "\n",
    "# Prepare test data\n",
    "X_test, y_test = prepare_trainable_data(test_data)\n",
    "\n",
    "X_train.shape, X_test.shape, y_train.shape, y_test.shape"
   ]
  },
  {
   "cell_type": "code",
   "execution_count": null,
   "metadata": {},
   "outputs": [],
   "source": []
  },
  {
   "cell_type": "code",
   "execution_count": 358,
   "metadata": {},
   "outputs": [
    {
     "name": "stderr",
     "output_type": "stream",
     "text": [
      "/home/test/anaconda3/envs/saurav_sir_ann/lib/python3.10/site-packages/keras/src/layers/rnn/rnn.py:200: UserWarning: Do not pass an `input_shape`/`input_dim` argument to a layer. When using Sequential models, prefer using an `Input(shape)` object as the first layer in the model instead.\n",
      "  super().__init__(**kwargs)\n"
     ]
    }
   ],
   "source": [
    "make_result_reproducible(seed_value)\n",
    "\n",
    "\n",
    "from tensorflow.keras.models import Sequential\n",
    "from tensorflow.keras.layers import LSTM, Dense, Dropout\n",
    "from tensorflow.keras.optimizers import Adam\n",
    "\n",
    "\n",
    "# Define the LSTM model\n",
    "model = Sequential()\n",
    "model.add(LSTM(units=15, return_sequences=False, input_shape=(X_train.shape[1], X_train.shape[2])))\n",
    "model.add(Dense(1, activation='sigmoid'))\n",
    "\n",
    "optimizer = Adam(learning_rate= 0.0001)\n",
    "model.compile(loss='binary_crossentropy', optimizer=optimizer, metrics=['accuracy']) \n"
   ]
  },
  {
   "cell_type": "code",
   "execution_count": null,
   "metadata": {},
   "outputs": [],
   "source": []
  },
  {
   "cell_type": "code",
   "execution_count": 359,
   "metadata": {},
   "outputs": [
    {
     "name": "stdout",
     "output_type": "stream",
     "text": [
      "Epoch 1/50\n",
      "\u001b[1m261/261\u001b[0m \u001b[32m━━━━━━━━━━━━━━━━━━━━\u001b[0m\u001b[37m\u001b[0m \u001b[1m4s\u001b[0m 10ms/step - accuracy: 0.4147 - loss: 0.8396 - val_accuracy: 0.3888 - val_loss: 0.7663\n",
      "Epoch 2/50\n",
      "\u001b[1m261/261\u001b[0m \u001b[32m━━━━━━━━━━━━━━━━━━━━\u001b[0m\u001b[37m\u001b[0m \u001b[1m2s\u001b[0m 9ms/step - accuracy: 0.3388 - loss: 0.7465 - val_accuracy: 0.4600 - val_loss: 0.6904\n",
      "Epoch 3/50\n",
      "\u001b[1m261/261\u001b[0m \u001b[32m━━━━━━━━━━━━━━━━━━━━\u001b[0m\u001b[37m\u001b[0m \u001b[1m2s\u001b[0m 8ms/step - accuracy: 0.5705 - loss: 0.6731 - val_accuracy: 0.7084 - val_loss: 0.6244\n",
      "Epoch 4/50\n",
      "\u001b[1m261/261\u001b[0m \u001b[32m━━━━━━━━━━━━━━━━━━━━\u001b[0m\u001b[37m\u001b[0m \u001b[1m2s\u001b[0m 9ms/step - accuracy: 0.7285 - loss: 0.6088 - val_accuracy: 0.7441 - val_loss: 0.5556\n",
      "Epoch 5/50\n",
      "\u001b[1m261/261\u001b[0m \u001b[32m━━━━━━━━━━━━━━━━━━━━\u001b[0m\u001b[37m\u001b[0m \u001b[1m2s\u001b[0m 9ms/step - accuracy: 0.7373 - loss: 0.5529 - val_accuracy: 0.7419 - val_loss: 0.5282\n",
      "Epoch 6/50\n",
      "\u001b[1m261/261\u001b[0m \u001b[32m━━━━━━━━━━━━━━━━━━━━\u001b[0m\u001b[37m\u001b[0m \u001b[1m2s\u001b[0m 8ms/step - accuracy: 0.7332 - loss: 0.5380 - val_accuracy: 0.7473 - val_loss: 0.5214\n",
      "Epoch 7/50\n",
      "\u001b[1m261/261\u001b[0m \u001b[32m━━━━━━━━━━━━━━━━━━━━\u001b[0m\u001b[37m\u001b[0m \u001b[1m2s\u001b[0m 8ms/step - accuracy: 0.7358 - loss: 0.5329 - val_accuracy: 0.7484 - val_loss: 0.5174\n",
      "Epoch 8/50\n",
      "\u001b[1m261/261\u001b[0m \u001b[32m━━━━━━━━━━━━━━━━━━━━\u001b[0m\u001b[37m\u001b[0m \u001b[1m2s\u001b[0m 8ms/step - accuracy: 0.7359 - loss: 0.5295 - val_accuracy: 0.7516 - val_loss: 0.5146\n",
      "Epoch 9/50\n",
      "\u001b[1m261/261\u001b[0m \u001b[32m━━━━━━━━━━━━━━━━━━━━\u001b[0m\u001b[37m\u001b[0m \u001b[1m2s\u001b[0m 8ms/step - accuracy: 0.7385 - loss: 0.5270 - val_accuracy: 0.7538 - val_loss: 0.5125\n",
      "Epoch 10/50\n",
      "\u001b[1m261/261\u001b[0m \u001b[32m━━━━━━━━━━━━━━━━━━━━\u001b[0m\u001b[37m\u001b[0m \u001b[1m2s\u001b[0m 8ms/step - accuracy: 0.7393 - loss: 0.5250 - val_accuracy: 0.7538 - val_loss: 0.5109\n",
      "Epoch 11/50\n",
      "\u001b[1m261/261\u001b[0m \u001b[32m━━━━━━━━━━━━━━━━━━━━\u001b[0m\u001b[37m\u001b[0m \u001b[1m2s\u001b[0m 9ms/step - accuracy: 0.7399 - loss: 0.5234 - val_accuracy: 0.7505 - val_loss: 0.5096\n",
      "Epoch 12/50\n",
      "\u001b[1m261/261\u001b[0m \u001b[32m━━━━━━━━━━━━━━━━━━━━\u001b[0m\u001b[37m\u001b[0m \u001b[1m2s\u001b[0m 9ms/step - accuracy: 0.7408 - loss: 0.5221 - val_accuracy: 0.7505 - val_loss: 0.5085\n",
      "Epoch 13/50\n",
      "\u001b[1m261/261\u001b[0m \u001b[32m━━━━━━━━━━━━━━━━━━━━\u001b[0m\u001b[37m\u001b[0m \u001b[1m2s\u001b[0m 9ms/step - accuracy: 0.7410 - loss: 0.5209 - val_accuracy: 0.7473 - val_loss: 0.5075\n",
      "Epoch 14/50\n",
      "\u001b[1m261/261\u001b[0m \u001b[32m━━━━━━━━━━━━━━━━━━━━\u001b[0m\u001b[37m\u001b[0m \u001b[1m2s\u001b[0m 9ms/step - accuracy: 0.7412 - loss: 0.5198 - val_accuracy: 0.7484 - val_loss: 0.5067\n",
      "Epoch 15/50\n",
      "\u001b[1m261/261\u001b[0m \u001b[32m━━━━━━━━━━━━━━━━━━━━\u001b[0m\u001b[37m\u001b[0m \u001b[1m2s\u001b[0m 9ms/step - accuracy: 0.7440 - loss: 0.5188 - val_accuracy: 0.7495 - val_loss: 0.5060\n",
      "Epoch 16/50\n",
      "\u001b[1m261/261\u001b[0m \u001b[32m━━━━━━━━━━━━━━━━━━━━\u001b[0m\u001b[37m\u001b[0m \u001b[1m3s\u001b[0m 10ms/step - accuracy: 0.7449 - loss: 0.5179 - val_accuracy: 0.7462 - val_loss: 0.5053\n",
      "Epoch 17/50\n",
      "\u001b[1m261/261\u001b[0m \u001b[32m━━━━━━━━━━━━━━━━━━━━\u001b[0m\u001b[37m\u001b[0m \u001b[1m2s\u001b[0m 9ms/step - accuracy: 0.7444 - loss: 0.5171 - val_accuracy: 0.7473 - val_loss: 0.5047\n",
      "Epoch 18/50\n",
      "\u001b[1m261/261\u001b[0m \u001b[32m━━━━━━━━━━━━━━━━━━━━\u001b[0m\u001b[37m\u001b[0m \u001b[1m2s\u001b[0m 9ms/step - accuracy: 0.7437 - loss: 0.5164 - val_accuracy: 0.7484 - val_loss: 0.5042\n",
      "Epoch 19/50\n",
      "\u001b[1m261/261\u001b[0m \u001b[32m━━━━━━━━━━━━━━━━━━━━\u001b[0m\u001b[37m\u001b[0m \u001b[1m2s\u001b[0m 9ms/step - accuracy: 0.7443 - loss: 0.5157 - val_accuracy: 0.7495 - val_loss: 0.5037\n",
      "Epoch 20/50\n",
      "\u001b[1m261/261\u001b[0m \u001b[32m━━━━━━━━━━━━━━━━━━━━\u001b[0m\u001b[37m\u001b[0m \u001b[1m2s\u001b[0m 9ms/step - accuracy: 0.7439 - loss: 0.5150 - val_accuracy: 0.7505 - val_loss: 0.5033\n",
      "Epoch 21/50\n",
      "\u001b[1m261/261\u001b[0m \u001b[32m━━━━━━━━━━━━━━━━━━━━\u001b[0m\u001b[37m\u001b[0m \u001b[1m2s\u001b[0m 9ms/step - accuracy: 0.7441 - loss: 0.5144 - val_accuracy: 0.7505 - val_loss: 0.5029\n",
      "Epoch 22/50\n",
      "\u001b[1m261/261\u001b[0m \u001b[32m━━━━━━━━━━━━━━━━━━━━\u001b[0m\u001b[37m\u001b[0m \u001b[1m2s\u001b[0m 9ms/step - accuracy: 0.7448 - loss: 0.5139 - val_accuracy: 0.7516 - val_loss: 0.5025\n",
      "Epoch 23/50\n",
      "\u001b[1m261/261\u001b[0m \u001b[32m━━━━━━━━━━━━━━━━━━━━\u001b[0m\u001b[37m\u001b[0m \u001b[1m2s\u001b[0m 9ms/step - accuracy: 0.7447 - loss: 0.5133 - val_accuracy: 0.7570 - val_loss: 0.5021\n",
      "Epoch 24/50\n",
      "\u001b[1m261/261\u001b[0m \u001b[32m━━━━━━━━━━━━━━━━━━━━\u001b[0m\u001b[37m\u001b[0m \u001b[1m2s\u001b[0m 9ms/step - accuracy: 0.7454 - loss: 0.5128 - val_accuracy: 0.7570 - val_loss: 0.5018\n",
      "Epoch 25/50\n",
      "\u001b[1m261/261\u001b[0m \u001b[32m━━━━━━━━━━━━━━━━━━━━\u001b[0m\u001b[37m\u001b[0m \u001b[1m2s\u001b[0m 9ms/step - accuracy: 0.7466 - loss: 0.5124 - val_accuracy: 0.7559 - val_loss: 0.5014\n",
      "Epoch 26/50\n",
      "\u001b[1m261/261\u001b[0m \u001b[32m━━━━━━━━━━━━━━━━━━━━\u001b[0m\u001b[37m\u001b[0m \u001b[1m2s\u001b[0m 9ms/step - accuracy: 0.7459 - loss: 0.5120 - val_accuracy: 0.7570 - val_loss: 0.5011\n",
      "Epoch 27/50\n",
      "\u001b[1m261/261\u001b[0m \u001b[32m━━━━━━━━━━━━━━━━━━━━\u001b[0m\u001b[37m\u001b[0m \u001b[1m2s\u001b[0m 9ms/step - accuracy: 0.7473 - loss: 0.5116 - val_accuracy: 0.7570 - val_loss: 0.5009\n",
      "Epoch 28/50\n",
      "\u001b[1m261/261\u001b[0m \u001b[32m━━━━━━━━━━━━━━━━━━━━\u001b[0m\u001b[37m\u001b[0m \u001b[1m2s\u001b[0m 9ms/step - accuracy: 0.7473 - loss: 0.5112 - val_accuracy: 0.7581 - val_loss: 0.5006\n",
      "Epoch 29/50\n",
      "\u001b[1m261/261\u001b[0m \u001b[32m━━━━━━━━━━━━━━━━━━━━\u001b[0m\u001b[37m\u001b[0m \u001b[1m2s\u001b[0m 8ms/step - accuracy: 0.7484 - loss: 0.5108 - val_accuracy: 0.7592 - val_loss: 0.5003\n",
      "Epoch 30/50\n",
      "\u001b[1m261/261\u001b[0m \u001b[32m━━━━━━━━━━━━━━━━━━━━\u001b[0m\u001b[37m\u001b[0m \u001b[1m2s\u001b[0m 9ms/step - accuracy: 0.7488 - loss: 0.5105 - val_accuracy: 0.7603 - val_loss: 0.5001\n",
      "Epoch 31/50\n",
      "\u001b[1m261/261\u001b[0m \u001b[32m━━━━━━━━━━━━━━━━━━━━\u001b[0m\u001b[37m\u001b[0m \u001b[1m2s\u001b[0m 9ms/step - accuracy: 0.7491 - loss: 0.5102 - val_accuracy: 0.7581 - val_loss: 0.4999\n",
      "Epoch 32/50\n",
      "\u001b[1m261/261\u001b[0m \u001b[32m━━━━━━━━━━━━━━━━━━━━\u001b[0m\u001b[37m\u001b[0m \u001b[1m2s\u001b[0m 9ms/step - accuracy: 0.7500 - loss: 0.5099 - val_accuracy: 0.7581 - val_loss: 0.4996\n",
      "Epoch 33/50\n",
      "\u001b[1m261/261\u001b[0m \u001b[32m━━━━━━━━━━━━━━━━━━━━\u001b[0m\u001b[37m\u001b[0m \u001b[1m2s\u001b[0m 8ms/step - accuracy: 0.7493 - loss: 0.5096 - val_accuracy: 0.7570 - val_loss: 0.4994\n",
      "Epoch 34/50\n",
      "\u001b[1m261/261\u001b[0m \u001b[32m━━━━━━━━━━━━━━━━━━━━\u001b[0m\u001b[37m\u001b[0m \u001b[1m2s\u001b[0m 9ms/step - accuracy: 0.7495 - loss: 0.5094 - val_accuracy: 0.7559 - val_loss: 0.4992\n",
      "Epoch 35/50\n",
      "\u001b[1m261/261\u001b[0m \u001b[32m━━━━━━━━━━━━━━━━━━━━\u001b[0m\u001b[37m\u001b[0m \u001b[1m2s\u001b[0m 9ms/step - accuracy: 0.7490 - loss: 0.5091 - val_accuracy: 0.7570 - val_loss: 0.4991\n",
      "Epoch 36/50\n",
      "\u001b[1m261/261\u001b[0m \u001b[32m━━━━━━━━━━━━━━━━━━━━\u001b[0m\u001b[37m\u001b[0m \u001b[1m2s\u001b[0m 9ms/step - accuracy: 0.7489 - loss: 0.5089 - val_accuracy: 0.7581 - val_loss: 0.4989\n",
      "Epoch 37/50\n",
      "\u001b[1m261/261\u001b[0m \u001b[32m━━━━━━━━━━━━━━━━━━━━\u001b[0m\u001b[37m\u001b[0m \u001b[1m2s\u001b[0m 9ms/step - accuracy: 0.7490 - loss: 0.5087 - val_accuracy: 0.7592 - val_loss: 0.4987\n",
      "Epoch 38/50\n",
      "\u001b[1m261/261\u001b[0m \u001b[32m━━━━━━━━━━━━━━━━━━━━\u001b[0m\u001b[37m\u001b[0m \u001b[1m2s\u001b[0m 9ms/step - accuracy: 0.7488 - loss: 0.5085 - val_accuracy: 0.7592 - val_loss: 0.4985\n",
      "Epoch 39/50\n",
      "\u001b[1m261/261\u001b[0m \u001b[32m━━━━━━━━━━━━━━━━━━━━\u001b[0m\u001b[37m\u001b[0m \u001b[1m2s\u001b[0m 9ms/step - accuracy: 0.7490 - loss: 0.5083 - val_accuracy: 0.7603 - val_loss: 0.4984\n",
      "Epoch 40/50\n",
      "\u001b[1m261/261\u001b[0m \u001b[32m━━━━━━━━━━━━━━━━━━━━\u001b[0m\u001b[37m\u001b[0m \u001b[1m2s\u001b[0m 8ms/step - accuracy: 0.7491 - loss: 0.5081 - val_accuracy: 0.7603 - val_loss: 0.4982\n",
      "Epoch 41/50\n",
      "\u001b[1m261/261\u001b[0m \u001b[32m━━━━━━━━━━━━━━━━━━━━\u001b[0m\u001b[37m\u001b[0m \u001b[1m2s\u001b[0m 9ms/step - accuracy: 0.7496 - loss: 0.5079 - val_accuracy: 0.7592 - val_loss: 0.4981\n",
      "Epoch 42/50\n",
      "\u001b[1m261/261\u001b[0m \u001b[32m━━━━━━━━━━━━━━━━━━━━\u001b[0m\u001b[37m\u001b[0m \u001b[1m2s\u001b[0m 8ms/step - accuracy: 0.7500 - loss: 0.5078 - val_accuracy: 0.7581 - val_loss: 0.4980\n",
      "Epoch 43/50\n",
      "\u001b[1m261/261\u001b[0m \u001b[32m━━━━━━━━━━━━━━━━━━━━\u001b[0m\u001b[37m\u001b[0m \u001b[1m2s\u001b[0m 9ms/step - accuracy: 0.7498 - loss: 0.5076 - val_accuracy: 0.7581 - val_loss: 0.4979\n",
      "Epoch 44/50\n",
      "\u001b[1m261/261\u001b[0m \u001b[32m━━━━━━━━━━━━━━━━━━━━\u001b[0m\u001b[37m\u001b[0m \u001b[1m2s\u001b[0m 9ms/step - accuracy: 0.7495 - loss: 0.5075 - val_accuracy: 0.7581 - val_loss: 0.4977\n",
      "Epoch 45/50\n",
      "\u001b[1m261/261\u001b[0m \u001b[32m━━━━━━━━━━━━━━━━━━━━\u001b[0m\u001b[37m\u001b[0m \u001b[1m2s\u001b[0m 9ms/step - accuracy: 0.7497 - loss: 0.5073 - val_accuracy: 0.7581 - val_loss: 0.4976\n",
      "Epoch 46/50\n",
      "\u001b[1m261/261\u001b[0m \u001b[32m━━━━━━━━━━━━━━━━━━━━\u001b[0m\u001b[37m\u001b[0m \u001b[1m2s\u001b[0m 8ms/step - accuracy: 0.7495 - loss: 0.5072 - val_accuracy: 0.7581 - val_loss: 0.4975\n",
      "Epoch 47/50\n",
      "\u001b[1m261/261\u001b[0m \u001b[32m━━━━━━━━━━━━━━━━━━━━\u001b[0m\u001b[37m\u001b[0m \u001b[1m2s\u001b[0m 9ms/step - accuracy: 0.7502 - loss: 0.5071 - val_accuracy: 0.7581 - val_loss: 0.4974\n",
      "Epoch 48/50\n",
      "\u001b[1m261/261\u001b[0m \u001b[32m━━━━━━━━━━━━━━━━━━━━\u001b[0m\u001b[37m\u001b[0m \u001b[1m2s\u001b[0m 9ms/step - accuracy: 0.7499 - loss: 0.5070 - val_accuracy: 0.7581 - val_loss: 0.4973\n",
      "Epoch 49/50\n",
      "\u001b[1m261/261\u001b[0m \u001b[32m━━━━━━━━━━━━━━━━━━━━\u001b[0m\u001b[37m\u001b[0m \u001b[1m2s\u001b[0m 9ms/step - accuracy: 0.7505 - loss: 0.5068 - val_accuracy: 0.7581 - val_loss: 0.4972\n",
      "Epoch 50/50\n",
      "\u001b[1m261/261\u001b[0m \u001b[32m━━━━━━━━━━━━━━━━━━━━\u001b[0m\u001b[37m\u001b[0m \u001b[1m2s\u001b[0m 9ms/step - accuracy: 0.7508 - loss: 0.5067 - val_accuracy: 0.7592 - val_loss: 0.4972\n"
     ]
    }
   ],
   "source": [
    "from tensorflow.keras.callbacks import EarlyStopping\n",
    "\n",
    "early_stopping = EarlyStopping(monitor='val_loss', patience=10, restore_best_weights=True)\n",
    "\n",
    "# history = model.fit(X_train, y_train, epochs=50, batch_size=32, validation_split=0.1, )\n",
    "\n",
    "history = model.fit(X_train, y_train, epochs=50, batch_size=32, validation_data=(X_val, y_val), callbacks=[early_stopping])"
   ]
  },
  {
   "cell_type": "code",
   "execution_count": 360,
   "metadata": {},
   "outputs": [
    {
     "data": {
      "image/png": "[encoded data removed]",
      "text/plain": [
       "<Figure size 640x480 with 1 Axes>"
      ]
     },
     "metadata": {},
     "output_type": "display_data"
    },
    {
     "data": {
      "image/png": "[encoded data removed]",
      "text/plain": [
       "<Figure size 640x480 with 1 Axes>"
      ]
     },
     "metadata": {},
     "output_type": "display_data"
    }
   ],
   "source": [
    "import matplotlib.pyplot as plt\n",
    "def plot_history(history, key):\n",
    "  plt.plot(history.history[key])\n",
    "  plt.plot(history.history['val_'+key])\n",
    "  plt.xlabel(\"Epochs\")\n",
    "  plt.ylabel(key)\n",
    "  plt.legend([key, 'val_'+key])\n",
    "  plt.title(f'Learning Curve (model-2 ({cell_size}x{cell_size}) cell size)')\n",
    "  plt.show()\n",
    "# Plot the history\n",
    "plot_history(history, 'loss')\n",
    "plot_history(history, 'accuracy')\n",
    "\n",
    "# plot_history(history, 'precision')\n",
    "# plot_history(history, 'recall')\n"
   ]
  },
  {
   "cell_type": "code",
   "execution_count": 361,
   "metadata": {},
   "outputs": [
    {
     "name": "stdout",
     "output_type": "stream",
     "text": [
      "\u001b[1m29/29\u001b[0m \u001b[32m━━━━━━━━━━━━━━━━━━━━\u001b[0m\u001b[37m\u001b[0m \u001b[1m0s\u001b[0m 5ms/step - accuracy: 0.7787 - loss: 0.4850\n",
      "Accuracy: 75.92\n",
      "\u001b[1m29/29\u001b[0m \u001b[32m━━━━━━━━━━━━━━━━━━━━\u001b[0m\u001b[37m\u001b[0m \u001b[1m0s\u001b[0m 10ms/step\n",
      "Precision: 81.33\n",
      "Recall: 67.95\n",
      "F1-score: 74.04\n"
     ]
    }
   ],
   "source": [
    "from sklearn.metrics import accuracy_score, precision_score, recall_score, f1_score\n",
    "\n",
    "\n",
    "# Evaluate the model on the val data\n",
    "# _, accuracy = model.evaluate(X_val, y_val)\n",
    "loss, accuracy = model.evaluate(X_val, y_val)\n",
    "print('Accuracy: %.2f' % (accuracy*100))\n",
    "# print(metrics)\n",
    "# Make predictions on the val data\n",
    "y_pred = model.predict(X_val)\n",
    "y_pred_binary = (y_pred >= 0.5).astype(int)  # Convert probabilities to binary predictions   \n",
    "\n",
    "\n",
    "# Calculate additional metrics\n",
    "precision = precision_score(y_val, y_pred_binary)\n",
    "recall = recall_score(y_val, y_pred_binary)\n",
    "f1 = f1_score(y_val,  y_pred_binary)\n",
    "\n",
    "print('Precision: %.2f' % (precision*100))\n",
    "print('Recall: %.2f' % (recall*100))\n",
    "print('F1-score: %.2f' % (f1*100))"
   ]
  },
  {
   "cell_type": "code",
   "execution_count": 369,
   "metadata": {},
   "outputs": [
    {
     "name": "stdout",
     "output_type": "stream",
     "text": [
      "\u001b[1m  1/319\u001b[0m \u001b[37m━━━━━━━━━━━━━━━━━━━━\u001b[0m \u001b[1m27s\u001b[0m 88ms/step - accuracy: 1.0000 - loss: 0.2592"
     ]
    },
    {
     "name": "stdout",
     "output_type": "stream",
     "text": [
      "\u001b[1m319/319\u001b[0m \u001b[32m━━━━━━━━━━━━━━━━━━━━\u001b[0m\u001b[37m\u001b[0m \u001b[1m2s\u001b[0m 4ms/step - accuracy: 0.8547 - loss: 0.4508\n",
      "Accuracy: 85.05\n",
      "\u001b[1m319/319\u001b[0m \u001b[32m━━━━━━━━━━━━━━━━━━━━\u001b[0m\u001b[37m\u001b[0m \u001b[1m1s\u001b[0m 4ms/step\n",
      "Precision: 13.73\n",
      "Recall: 80.97\n",
      "F1-score: 23.48\n"
     ]
    }
   ],
   "source": [
    "# Test the model\n",
    "loss, accuracy = model.evaluate(X_test, y_test)\n",
    "print('Accuracy: %.2f' % (accuracy*100))\n",
    "# Make predictions on the test data\n",
    "y_pred = model.predict(X_test)\n",
    "\n",
    "y_pred_binary = (y_pred >= 0.5).astype(int)  # Convert probabilities to binary predictions   \n",
    "\n",
    "\n",
    "# Calculate additional metrics\n",
    "precision = precision_score(y_test, y_pred_binary)\n",
    "recall = recall_score(y_test, y_pred_binary)\n",
    "f1 = f1_score(y_test,  y_pred_binary)\n",
    "\n",
    "print('Precision: %.2f' % (precision*100))\n",
    "print('Recall: %.2f' % (recall*100))\n",
    "print('F1-score: %.2f' % (f1*100))"
   ]
  },
  {
   "cell_type": "code",
   "execution_count": 131,
   "metadata": {},
   "outputs": [],
   "source": [
    "# # history l1= 50, l2 = 20\n",
    "\n",
    "# 77/77 ━━━━━━━━━━━━━━━━━━━━ 1s 7ms/step - accuracy: 0.8468 - loss: 0.3697\n",
    "# Accuracy: 85.92\n",
    "# 77/77 ━━━━━━━━━━━━━━━━━━━━ 1s 11ms/step\n",
    "# Precision: 73.87\n",
    "# Recall: 52.56\n",
    "# F1-score: 61.42\n"
   ]
  },
  {
   "cell_type": "code",
   "execution_count": 370,
   "metadata": {},
   "outputs": [
    {
     "data": {
      "image/png": "[encoded data removed]",
      "text/plain": [
       "<Figure size 640x480 with 1 Axes>"
      ]
     },
     "metadata": {},
     "output_type": "display_data"
    }
   ],
   "source": [
    "from sklearn import metrics\n",
    "fpr, tpr, _ = metrics.roc_curve(y_test,  y_pred)\n",
    "auc = metrics.roc_auc_score(y_test, y_pred)\n",
    "plt.xlabel('False Positive Rate')\n",
    "plt.ylabel('True Positive Rate')\n",
    "plt.plot([0, 1], [0, 1], 'k--', alpha=0.5)\n",
    "plt.plot(fpr,tpr,label=\"auc=\"+str(auc))\n",
    "plt.legend(loc=4)\n",
    "plt.title(f'AUC model-2 ({cell_size}x{cell_size}) cell size')\n",
    "plt.show()"
   ]
  },
  {
   "cell_type": "code",
   "execution_count": 371,
   "metadata": {},
   "outputs": [
    {
     "name": "stderr",
     "output_type": "stream",
     "text": [
      "/tmp/ipykernel_6322/3394112243.py:4: SettingWithCopyWarning: \n",
      "A value is trying to be set on a copy of a slice from a DataFrame.\n",
      "Try using .loc[row_indexer,col_indexer] = value instead\n",
      "\n",
      "See the caveats in the documentation: https://pandas.pydata.org/pandas-docs/stable/user_guide/indexing.html#returning-a-view-versus-a-copy\n",
      "  crime_hotspots.loc[:,'predicted'] = y_pred_binary\n"
     ]
    },
    {
     "data": {
      "text/plain": [
       "1704"
      ]
     },
     "execution_count": 371,
     "metadata": {},
     "output_type": "execute_result"
    }
   ],
   "source": [
    "import datetime\n",
    "crime_hotspots = test_hotspots_crime_counts_df[test_hotspots_crime_counts_df.time_bin.dt.date >= datetime.date(2017, 3, 1) ]\n",
    "\n",
    "crime_hotspots.loc[:,'predicted'] = y_pred_binary\n",
    "crime_hotspots.to_csv(f'forecasted_result_{cell_size}_threshold_0.5.csv')\n",
    "y_pred_binary.sum()\n"
   ]
  },
  {
   "cell_type": "code",
   "execution_count": 339,
   "metadata": {},
   "outputs": [],
   "source": [
    "\n",
    "grid = gpd.read_file(os.path.join(current_dir, 'Data', 'grids', str(cell_size),  'crime-forecast-grid.shp'))"
   ]
  },
  {
   "cell_type": "code",
   "execution_count": 325,
   "metadata": {},
   "outputs": [
    {
     "name": "stdout",
     "output_type": "stream",
     "text": [
      "[ 4013  4236  4348  4349  4350  4460  4576  4577  4580  4692  4693  4808\n",
      "  4809  4810  4814  4924  4925  4926  4927  4928  5039  5040  5041  5042\n",
      "  5043  5044  5155  5156  5157  5158  5270  5271  5399  5676  5776  5975\n",
      "  6073  6074  8557  8653 10069 10139 10154 10156 11034 11441 11508 11516\n",
      " 11517 11693 11781]\n"
     ]
    },
    {
     "data": {
      "text/plain": [
       "array([ 4460,  4576,  4580,  4924,  5040,  5041,  5042,  5043,  5044,\n",
       "        5156,  5157,  5158,  5270,  5271,  5969,  6074,  6172,  7163,\n",
       "        7176,  8765,  9404,  9502, 10154, 10156, 11516])"
      ]
     },
     "execution_count": 325,
     "metadata": {},
     "output_type": "execute_result"
    }
   ],
   "source": [
    "test_time_step_starting_dates = test_time_bins[-7:]\n",
    "crime_hotspots_1st_week = crime_hotspots[crime_hotspots.time_bin.dt.date == test_time_step_starting_dates[0].date() ]\n",
    "\n",
    "predicted_grid_ids = np.array(crime_hotspots_1st_week[crime_hotspots_1st_week['predicted'] == 1].unique_id)\n",
    "hotspot_grid_ids = np.array(crime_hotspots_1st_week[crime_hotspots_1st_week['hotspot'] == 1].unique_id)\n",
    "\n",
    "total_crimes_in_predicted_hotspots = crime_hotspots_1st_week[crime_hotspots_1st_week['predicted'] == 1].crime_count.sum()\n",
    "total_crimes = test_crime_counts_df[test_crime_counts_df.time_bin.dt.date == test_time_step_starting_dates[0].date()].crime_count.sum()\n",
    "\n",
    "predicted_hotspots_area = grid[grid.unique_id.isin(predicted_grid_ids)].area.sum()\n",
    "total_area = grid.area.sum()\n",
    "print(predicted_grid_ids)\n",
    "hotspot_grid_ids\n",
    "# # # x"
   ]
  },
  {
   "cell_type": "code",
   "execution_count": 326,
   "metadata": {},
   "outputs": [
    {
     "name": "stdout",
     "output_type": "stream",
     "text": [
      "221.0\n",
      "1381\n",
      "18325351.73948967\n",
      "4117743414.8055296\n",
      "PAI = 35.95883037835799\n"
     ]
    }
   ],
   "source": [
    "\n",
    "print(total_crimes_in_predicted_hotspots)\n",
    "print(total_crimes)\n",
    "print(predicted_hotspots_area)\n",
    "print(total_area)\n",
    "\n",
    "\n",
    "pai = (total_crimes_in_predicted_hotspots / total_crimes) / (predicted_hotspots_area / total_area)\n",
    "print(f\"PAI = {pai}\")\n",
    "# pai\n"
   ]
  },
  {
   "cell_type": "code",
   "execution_count": 327,
   "metadata": {},
   "outputs": [
    {
     "name": "stdout",
     "output_type": "stream",
     "text": [
      "51\n",
      "221.0\n",
      "283\n",
      "PEI: 0.7809187279151943\n"
     ]
    }
   ],
   "source": [
    "\n",
    "test_crime_count_list = test_crime_counts_df[test_crime_counts_df.time_bin.dt.date == test_time_step_starting_dates[0].date()].crime_count\n",
    "desc_sorted = -np.sort(-np.array(test_crime_count_list))\n",
    "number_of_cells =  math.ceil(predicted_hotspots_area/ (cell_size**2)) # Rough estimation that each cell is of size cell_size_sq\n",
    "maximum_obtainable_crimes_for_the_forecasted_area = desc_sorted[:number_of_cells].sum()\n",
    "\n",
    "pei = total_crimes_in_predicted_hotspots / (maximum_obtainable_crimes_for_the_forecasted_area)\n",
    "\n",
    "print(number_of_cells)\n",
    "print(total_crimes_in_predicted_hotspots)\n",
    "print(maximum_obtainable_crimes_for_the_forecasted_area)\n",
    "print(f\"PEI: {pei}\")\n",
    "\n",
    "# grid['pre']\n",
    "    \n",
    "# # y_test\n",
    "# test_crime_counts_df.crime_count.max()"
   ]
  },
  {
   "cell_type": "code",
   "execution_count": 328,
   "metadata": {},
   "outputs": [
    {
     "data": {
      "text/plain": [
       "(51, 25, 18)"
      ]
     },
     "execution_count": 328,
     "metadata": {},
     "output_type": "execute_result"
    }
   ],
   "source": [
    "len(predicted_grid_ids), len(hotspot_grid_ids), len(np.intersect1d(predicted_grid_ids, hotspot_grid_ids))"
   ]
  },
  {
   "cell_type": "code",
   "execution_count": null,
   "metadata": {},
   "outputs": [],
   "source": []
  },
  {
   "cell_type": "code",
   "execution_count": 292,
   "metadata": {},
   "outputs": [],
   "source": [
    "grid.loc[grid.unique_id.isin(predicted_grid_ids), 'hotspot'] = 1\n",
    "grid.loc[grid.unique_id.isin(hotspot_grid_ids), 'hotspot'] = 2\n",
    "grid.loc[grid.unique_id.isin(np.intersect1d(predicted_grid_ids, hotspot_grid_ids)), 'hotspot'] = 3\n",
    "grid.to_file(f\"visualizations/{cell_size}/shape-files/crime-forecast-grid-mar-01-mar-14-threshold-0.9.shp\")\n"
   ]
  },
  {
   "cell_type": "markdown",
   "metadata": {},
   "source": [
    "### For 3 month period"
   ]
  },
  {
   "cell_type": "code",
   "execution_count": 329,
   "metadata": {},
   "outputs": [
    {
     "data": {
      "text/plain": [
       "array([ 4013,  4348,  4349,  4460,  4576,  4577,  4580,  4692,  4693,\n",
       "        4809,  4814,  4924,  4926,  4927,  5040,  5041,  5042,  5043,\n",
       "        5044,  5046,  5155,  5156,  5157,  5158,  5160,  5269,  5270,\n",
       "        5271,  5676,  5774,  5776,  5967,  5969,  6074,  7079,  7176,\n",
       "        8557,  8575,  8653,  8765,  8768,  9071, 10069, 10154, 10155,\n",
       "       10156, 11441, 11516, 11517, 11781])"
      ]
     },
     "execution_count": 329,
     "metadata": {},
     "output_type": "execute_result"
    }
   ],
   "source": [
    "\n",
    "\n",
    "all_predicted_hotspot_cell_ids =  crime_hotspots[crime_hotspots.predicted == 1].unique_id.unique()\n",
    "all_hotspot_cell_ids =  crime_hotspots[crime_hotspots.hotspot == 1].unique_id.unique()\n",
    "\n",
    "\n",
    "total_crimes_in_predicted_hotspots = crime_hotspots[crime_hotspots['predicted'] == 1].crime_count.sum()\n",
    "total_crimes = test_crime_counts_df[test_crime_counts_df.time_bin.dt.date >= test_time_step_starting_dates[0].date()].crime_count.sum()\n",
    "\n",
    "predicted_hotspots_area = grid[grid.unique_id.isin(all_predicted_hotspot_cell_ids)].area.sum()\n",
    "total_area = grid.area.sum()\n",
    "\n",
    "np.intersect1d(all_hotspot_cell_ids, all_predicted_hotspot_cell_ids)"
   ]
  },
  {
   "cell_type": "code",
   "execution_count": 330,
   "metadata": {},
   "outputs": [
    {
     "name": "stdout",
     "output_type": "stream",
     "text": [
      "1583.0\n",
      "9553\n",
      "28765351.739489675\n",
      "4117743414.8055296\n",
      "PAI = 23.720876343138222\n"
     ]
    }
   ],
   "source": [
    "\n",
    "print(total_crimes_in_predicted_hotspots)\n",
    "print(total_crimes)\n",
    "print(predicted_hotspots_area)\n",
    "print(total_area)\n",
    "\n",
    "pai = (total_crimes_in_predicted_hotspots / total_crimes) / (predicted_hotspots_area / total_area)\n",
    "print(f\"PAI = {pai}\")\n"
   ]
  },
  {
   "cell_type": "code",
   "execution_count": 331,
   "metadata": {},
   "outputs": [],
   "source": [
    "# 763.0\n",
    "# 9553\n",
    "# 7165351.739489673\n",
    "# 4117743414.8055296\n",
    "# PAI = 45.89934914111569"
   ]
  },
  {
   "cell_type": "code",
   "execution_count": 332,
   "metadata": {},
   "outputs": [
    {
     "name": "stdout",
     "output_type": "stream",
     "text": [
      "PEI: 0.7907092907092907\n",
      "1583.0\n",
      "2002\n"
     ]
    }
   ],
   "source": [
    "\n",
    "\n",
    "desc_sorted_test_crime_count_list = test_crime_counts_df.groupby('unique_id').agg({'crime_count': lambda x: sum(x)}).crime_count.sort_values(ascending=False)\n",
    "number_of_cells =  math.ceil(predicted_hotspots_area/ (cell_size**2)) # Rough estimation that each cell is of size cell_size_sq\n",
    "# print(number_of_cells)\n",
    "maximum_obtainable_crimes_for_the_forecasted_area = desc_sorted_test_crime_count_list[:number_of_cells].sum()\n",
    "# print(desc_sorted)\n",
    "pei = total_crimes_in_predicted_hotspots / (maximum_obtainable_crimes_for_the_forecasted_area)\n",
    "print(f\"PEI: {pei}\")\n",
    "print(total_crimes_in_predicted_hotspots)\n",
    "print(maximum_obtainable_crimes_for_the_forecasted_area)\n",
    "\n"
   ]
  },
  {
   "cell_type": "code",
   "execution_count": 296,
   "metadata": {},
   "outputs": [],
   "source": [
    "grid.loc[grid.unique_id.isin(all_predicted_hotspot_cell_ids), 'hotspot'] = 1\n",
    "grid.loc[grid.unique_id.isin(all_hotspot_cell_ids), 'hotspot'] = 2\n",
    "grid.loc[grid.unique_id.isin(np.intersect1d(all_predicted_hotspot_cell_ids, all_hotspot_cell_ids)), 'hotspot'] = 3\n",
    "grid.to_file(f\"visualizations/{cell_size}/shape-files/crime-forecast-grid-mar-01-may-31-threshold-0.9.shp\")"
   ]
  },
  {
   "cell_type": "markdown",
   "metadata": {},
   "source": [
    "# OLD extra\n"
   ]
  },
  {
   "cell_type": "code",
   "execution_count": null,
   "metadata": {},
   "outputs": [],
   "source": [
    "import numpy as np\n",
    "from sklearn.model_selection import GridSearchCV\n",
    "# from tensorflow.keras.wrappers.scikit_learn import KerasClassifier\n",
    "# from tensorflow.keras.wrappers.scikit_learn import KerasClassifier\n",
    "# from tensorflow.keras.wrappers.scikit_learn import KerasClassifier\n",
    "from scikeras.wrappers import KerasClassifier\n",
    "\n",
    "\n",
    "from tensorflow.keras.models import Sequential\n",
    "from tensorflow.keras.layers import LSTM, Dense\n",
    "from tensorflow.keras.optimizers import Adam\n",
    "\n",
    "\n",
    "# Define the LSTM model\n",
    "def create_model(units=50, learning_rate=0.001):\n",
    "    model = Sequential()\n",
    "    model.add(LSTM(units=units, return_sequences=True, input_shape=(X_train.shape[1], X_train.shape[2])))\n",
    "    model.add(LSTM(units=units))\n",
    "    model.add(Dense(1, activation='sigmoid'))\n",
    "    model.compile(loss='binary_crossentropy', optimizer=Adam(learning_rate=learning_rate), metrics=['accuracy'])\n",
    "    return model\n",
    "\n",
    "# Create a KerasClassifier\n",
    "model = KerasClassifier(build_fn=create_model)\n",
    "\n",
    "# Define the hyperparameter grid\n",
    "param_grid = {\n",
    "    'model__units': [20, 50, 80],\n",
    "    'model__learning_rate': [0.01, 0.001, 0.0001],\n",
    "    'batch_size': [16, 32, 64],\n",
    "    'epochs': [20, 30, 40]\n",
    "}\n",
    "\n",
    "# Create a GridSearchCV object\n",
    "grid = GridSearchCV(estimator=model, param_grid=param_grid, cv=3)  # 3-fold cross-validation\n",
    "\n",
    "# Fit the grid search to the data\n",
    "grid_result = grid.fit(X_train, y_train)\n",
    "\n",
    "# Print the best hyperparameters\n",
    "print(\"Best: %f using %s\" % (grid_result.best_score_, grid_result.best_params_))"
   ]
  },
  {
   "cell_type": "code",
   "execution_count": 265,
   "metadata": {},
   "outputs": [],
   "source": [
    "# ## Grid Search\n",
    "\n",
    "# # import os\n",
    "# # os.environ[\"CUDA_VISIBLE_DEVICES\"] = \"-1\"\n",
    "\n",
    "\n",
    "# import tensorflow as tf\n",
    "# print(\"Num GPUs Available: \", len(tf.config.list_physical_devices('GPU')))\n",
    "\n",
    "# import numpy as np\n",
    "# from sklearn.model_selection import GridSearchCV\n",
    "# # from tensorflow.keras.wrappers.scikit_learn import KerasClassifier\n",
    "# from scikeras.wrappers import KerasClassifier\n",
    "\n",
    "\n",
    "# from tensorflow.keras.models import Sequential\n",
    "# from tensorflow.keras.layers import LSTM, Dense\n",
    "# from tensorflow.keras.optimizers import Adam\n",
    "\n",
    "# # Assuming X_train, y_train, X_val, y_val have been created\n",
    "\n",
    "# # Define the LSTM model\n",
    "# def create_model(units_layer1=50,units_layer2=50, learning_rate=0.001):\n",
    "#     model = Sequential()\n",
    "#     model.add(LSTM(units=units_layer1, return_sequences=True, input_shape=(X_train.shape[1], X_train.shape[2])))\n",
    "#     model.add(LSTM(units=units_layer2))\n",
    "#     model.add(Dense(1, activation='sigmoid'))\n",
    "#     model.compile(loss='binary_crossentropy', optimizer=Adam(learning_rate=learning_rate), metrics=['accuracy'])\n",
    "#     return model\n",
    "\n",
    "# # Create a KerasClassifier\n",
    "# model = KerasClassifier(build_fn=create_model, metrics=['accuracy'],verbose=0)\n",
    "\n",
    "# # Define the hyperparameter grid\n",
    "# # param_grid = {\n",
    "# #     'model__units': [20, 50, 80],\n",
    "# #     'model__learning_rate': [0.01, 0.001, 0.0001],\n",
    "# #     'batch_size': [16, 32, 64],\n",
    "# #     'epochs': [20, 30, 40]\n",
    "# # }\n",
    "\n",
    "# param_grid = {\n",
    "#     'model__units': [20,50,80],\n",
    "#     'model__learning_rate': [0.001, 0.0001],\n",
    "#     'batch_size': [32, 64],\n",
    "#     'epochs': [20, 50]\n",
    "# }\n",
    "# param_grid = {\n",
    "#     'model__units_layer1': [50,100],\n",
    "#     'model__units_layer2': [25,50],\n",
    "#     'model__learning_rate': [0.001, 0.0001],\n",
    "#     'batch_size': [32],\n",
    "#     'epochs': [50]\n",
    "# }\n",
    "\n",
    "# model = KerasClassifier(model=create_model, optimizer='adam', verbose=0)\n",
    "\n",
    "# # Fit and predict\n",
    "# # model.fit(X_train, y_train)\n",
    "# # predictions = model.predict(X_test)\n",
    "\n",
    "\n",
    "# # # Create a GridSearchCV object\n",
    "# grid = GridSearchCV(estimator=model, param_grid=param_grid, cv=3, error_score='raise')  # 3-fold cross-validation\n",
    "\n",
    "# # Fit the grid search to the data\n",
    "# grid_result = grid.fit(X_train, y_train)\n",
    "\n",
    "# # Print the best hyperparameters\n",
    "# print(f\"Best: {grid_result.best_score_} using {grid_result.best_params_}\")"
   ]
  }
 ],
 "metadata": {
  "kernelspec": {
   "display_name": "saurav_sir_ann",
   "language": "python",
   "name": "python3"
  },
  "language_info": {
   "codemirror_mode": {
    "name": "ipython",
    "version": 3
   },
   "file_extension": ".py",
   "mimetype": "text/x-python",
   "name": "python",
   "nbconvert_exporter": "python",
   "pygments_lexer": "ipython3",
   "version": "3.10.12"
  }
 },
 "nbformat": 4,
 "nbformat_minor": 2
}
